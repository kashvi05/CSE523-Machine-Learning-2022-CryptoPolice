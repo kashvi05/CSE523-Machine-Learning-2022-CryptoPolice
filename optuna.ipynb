{
 "cells": [
  {
   "cell_type": "code",
   "execution_count": 8,
   "id": "0dceb900",
   "metadata": {},
   "outputs": [],
   "source": [
    "import numpy as np\n",
    "import pandas as pd\n",
    "import seaborn as sns\n",
    "import matplotlib\n",
    "import matplotlib.pyplot as plt\n",
    "import lightgbm as lgbm\n",
    "import xgboost\n",
    "import multiprocessing\n",
    "\n",
    "from sklearn.neighbors import KNeighborsRegressor\n",
    "\n",
    "from lightgbm import LGBMRegressor\n",
    "from xgboost import XGBRegressor"
   ]
  },
  {
   "cell_type": "code",
   "execution_count": 11,
   "id": "f3fbea70",
   "metadata": {},
   "outputs": [
    {
     "data": {
      "text/plain": [
       "4"
      ]
     },
     "execution_count": 11,
     "metadata": {},
     "output_type": "execute_result"
    }
   ],
   "source": [
    "num_cores = multiprocessing.cpu_count()\n",
    "num_cores"
   ]
  },
  {
   "cell_type": "code",
   "execution_count": 3,
   "id": "2599aa22",
   "metadata": {},
   "outputs": [
    {
     "data": {
      "text/html": [
       "<div>\n",
       "<style scoped>\n",
       "    .dataframe tbody tr th:only-of-type {\n",
       "        vertical-align: middle;\n",
       "    }\n",
       "\n",
       "    .dataframe tbody tr th {\n",
       "        vertical-align: top;\n",
       "    }\n",
       "\n",
       "    .dataframe thead th {\n",
       "        text-align: right;\n",
       "    }\n",
       "</style>\n",
       "<table border=\"1\" class=\"dataframe\">\n",
       "  <thead>\n",
       "    <tr style=\"text-align: right;\">\n",
       "      <th></th>\n",
       "      <th>Count</th>\n",
       "      <th>Open</th>\n",
       "      <th>High</th>\n",
       "      <th>Low</th>\n",
       "      <th>Close</th>\n",
       "      <th>Volume</th>\n",
       "      <th>VWAP</th>\n",
       "      <th>new_date</th>\n",
       "      <th>Asset_ID</th>\n",
       "      <th>Target</th>\n",
       "    </tr>\n",
       "  </thead>\n",
       "  <tbody>\n",
       "    <tr>\n",
       "      <th>0</th>\n",
       "      <td>-0.420178</td>\n",
       "      <td>-0.231602</td>\n",
       "      <td>-0.231818</td>\n",
       "      <td>-0.231463</td>\n",
       "      <td>-0.231600</td>\n",
       "      <td>-0.163735</td>\n",
       "      <td>-0.231576</td>\n",
       "      <td>2018-01-01</td>\n",
       "      <td>0</td>\n",
       "      <td>0.000148</td>\n",
       "    </tr>\n",
       "    <tr>\n",
       "      <th>1</th>\n",
       "      <td>-0.406696</td>\n",
       "      <td>-0.231558</td>\n",
       "      <td>-0.231774</td>\n",
       "      <td>-0.231420</td>\n",
       "      <td>-0.231556</td>\n",
       "      <td>-0.163475</td>\n",
       "      <td>-0.231532</td>\n",
       "      <td>2018-01-02</td>\n",
       "      <td>0</td>\n",
       "      <td>0.000393</td>\n",
       "    </tr>\n",
       "    <tr>\n",
       "      <th>2</th>\n",
       "      <td>-0.412850</td>\n",
       "      <td>-0.231527</td>\n",
       "      <td>-0.231744</td>\n",
       "      <td>-0.231389</td>\n",
       "      <td>-0.231525</td>\n",
       "      <td>-0.163609</td>\n",
       "      <td>-0.231501</td>\n",
       "      <td>2018-01-03</td>\n",
       "      <td>0</td>\n",
       "      <td>0.000549</td>\n",
       "    </tr>\n",
       "    <tr>\n",
       "      <th>3</th>\n",
       "      <td>-0.411005</td>\n",
       "      <td>-0.231471</td>\n",
       "      <td>-0.231686</td>\n",
       "      <td>-0.231333</td>\n",
       "      <td>-0.231469</td>\n",
       "      <td>-0.163602</td>\n",
       "      <td>-0.231445</td>\n",
       "      <td>2018-01-04</td>\n",
       "      <td>0</td>\n",
       "      <td>0.000006</td>\n",
       "    </tr>\n",
       "    <tr>\n",
       "      <th>4</th>\n",
       "      <td>-0.389464</td>\n",
       "      <td>-0.230984</td>\n",
       "      <td>-0.231194</td>\n",
       "      <td>-0.230852</td>\n",
       "      <td>-0.230981</td>\n",
       "      <td>-0.162833</td>\n",
       "      <td>-0.230958</td>\n",
       "      <td>2018-01-05</td>\n",
       "      <td>0</td>\n",
       "      <td>0.005618</td>\n",
       "    </tr>\n",
       "  </tbody>\n",
       "</table>\n",
       "</div>"
      ],
      "text/plain": [
       "      Count      Open      High       Low     Close    Volume      VWAP  \\\n",
       "0 -0.420178 -0.231602 -0.231818 -0.231463 -0.231600 -0.163735 -0.231576   \n",
       "1 -0.406696 -0.231558 -0.231774 -0.231420 -0.231556 -0.163475 -0.231532   \n",
       "2 -0.412850 -0.231527 -0.231744 -0.231389 -0.231525 -0.163609 -0.231501   \n",
       "3 -0.411005 -0.231471 -0.231686 -0.231333 -0.231469 -0.163602 -0.231445   \n",
       "4 -0.389464 -0.230984 -0.231194 -0.230852 -0.230981 -0.162833 -0.230958   \n",
       "\n",
       "     new_date  Asset_ID    Target  \n",
       "0  2018-01-01         0  0.000148  \n",
       "1  2018-01-02         0  0.000393  \n",
       "2  2018-01-03         0  0.000549  \n",
       "3  2018-01-04         0  0.000006  \n",
       "4  2018-01-05         0  0.005618  "
      ]
     },
     "execution_count": 3,
     "metadata": {},
     "output_type": "execute_result"
    }
   ],
   "source": [
    "X_train = pd.read_csv(\"./Dataset/CompressedData.csv\")\n",
    "X_train.head()"
   ]
  },
  {
   "cell_type": "code",
   "execution_count": 4,
   "id": "23119d08",
   "metadata": {},
   "outputs": [
    {
     "name": "stdout",
     "output_type": "stream",
     "text": [
      "CPU times: user 12 µs, sys: 2 µs, total: 14 µs\n",
      "Wall time: 17.6 µs\n"
     ]
    }
   ],
   "source": [
    "%%time\n",
    "\n",
    "from sklearn.model_selection import cross_validate\n",
    "\n",
    "def cross_validate_manual(X, y, model):\n",
    "    cv = cross_validate(\n",
    "        estimator = model,\n",
    "        X = X,\n",
    "        y = y,\n",
    "        scoring = [\"neg_mean_squared_error\"],\n",
    "        cv = 5,\n",
    "    )\n",
    "    \n",
    "    return cv[\"test_neg_mean_squared_error\"].mean()"
   ]
  },
  {
   "cell_type": "code",
   "execution_count": 5,
   "id": "02c5cef4",
   "metadata": {},
   "outputs": [
    {
     "data": {
      "text/html": [
       "<div>\n",
       "<style scoped>\n",
       "    .dataframe tbody tr th:only-of-type {\n",
       "        vertical-align: middle;\n",
       "    }\n",
       "\n",
       "    .dataframe tbody tr th {\n",
       "        vertical-align: top;\n",
       "    }\n",
       "\n",
       "    .dataframe thead th {\n",
       "        text-align: right;\n",
       "    }\n",
       "</style>\n",
       "<table border=\"1\" class=\"dataframe\">\n",
       "  <thead>\n",
       "    <tr style=\"text-align: right;\">\n",
       "      <th></th>\n",
       "      <th>Count</th>\n",
       "      <th>Open</th>\n",
       "      <th>VWAP</th>\n",
       "      <th>Asset_ID</th>\n",
       "    </tr>\n",
       "  </thead>\n",
       "  <tbody>\n",
       "    <tr>\n",
       "      <th>0</th>\n",
       "      <td>-0.420178</td>\n",
       "      <td>-0.231602</td>\n",
       "      <td>-0.231576</td>\n",
       "      <td>0</td>\n",
       "    </tr>\n",
       "    <tr>\n",
       "      <th>1</th>\n",
       "      <td>-0.406696</td>\n",
       "      <td>-0.231558</td>\n",
       "      <td>-0.231532</td>\n",
       "      <td>0</td>\n",
       "    </tr>\n",
       "    <tr>\n",
       "      <th>2</th>\n",
       "      <td>-0.412850</td>\n",
       "      <td>-0.231527</td>\n",
       "      <td>-0.231501</td>\n",
       "      <td>0</td>\n",
       "    </tr>\n",
       "    <tr>\n",
       "      <th>3</th>\n",
       "      <td>-0.411005</td>\n",
       "      <td>-0.231471</td>\n",
       "      <td>-0.231445</td>\n",
       "      <td>0</td>\n",
       "    </tr>\n",
       "    <tr>\n",
       "      <th>4</th>\n",
       "      <td>-0.389464</td>\n",
       "      <td>-0.230984</td>\n",
       "      <td>-0.230958</td>\n",
       "      <td>0</td>\n",
       "    </tr>\n",
       "  </tbody>\n",
       "</table>\n",
       "</div>"
      ],
      "text/plain": [
       "      Count      Open      VWAP  Asset_ID\n",
       "0 -0.420178 -0.231602 -0.231576         0\n",
       "1 -0.406696 -0.231558 -0.231532         0\n",
       "2 -0.412850 -0.231527 -0.231501         0\n",
       "3 -0.411005 -0.231471 -0.231445         0\n",
       "4 -0.389464 -0.230984 -0.230958         0"
      ]
     },
     "execution_count": 5,
     "metadata": {},
     "output_type": "execute_result"
    }
   ],
   "source": [
    "y_train = X_train['Target']\n",
    "X_train.drop([\"Target\", \"new_date\", \"High\", \"Low\", \"Close\", \"Volume\"], axis = 1, inplace=True)\n",
    "X_train.head()"
   ]
  },
  {
   "cell_type": "code",
   "execution_count": 6,
   "id": "5929abb8",
   "metadata": {},
   "outputs": [
    {
     "name": "stdout",
     "output_type": "stream",
     "text": [
      "LGBM:  2.7157851030033764\n"
     ]
    }
   ],
   "source": [
    "model_lgbm = LGBMRegressor()\n",
    "mean_lgbm = cross_validate_manual(X_train, y_train, model_lgbm)\n",
    "print(\"LGBM: \", np.abs(10e6*mean_lgbm))"
   ]
  },
  {
   "cell_type": "code",
   "execution_count": 7,
   "id": "784bce7f",
   "metadata": {},
   "outputs": [
    {
     "data": {
      "text/plain": [
       "{'boosting_type': 'gbdt',\n",
       " 'class_weight': None,\n",
       " 'colsample_bytree': 1.0,\n",
       " 'importance_type': 'split',\n",
       " 'learning_rate': 0.1,\n",
       " 'max_depth': -1,\n",
       " 'min_child_samples': 20,\n",
       " 'min_child_weight': 0.001,\n",
       " 'min_split_gain': 0.0,\n",
       " 'n_estimators': 100,\n",
       " 'n_jobs': -1,\n",
       " 'num_leaves': 31,\n",
       " 'objective': None,\n",
       " 'random_state': None,\n",
       " 'reg_alpha': 0.0,\n",
       " 'reg_lambda': 0.0,\n",
       " 'silent': 'warn',\n",
       " 'subsample': 1.0,\n",
       " 'subsample_for_bin': 200000,\n",
       " 'subsample_freq': 0}"
      ]
     },
     "execution_count": 7,
     "metadata": {},
     "output_type": "execute_result"
    }
   ],
   "source": [
    "model_lgbm.get_params()"
   ]
  },
  {
   "cell_type": "code",
   "execution_count": 13,
   "id": "fc43f7f5",
   "metadata": {},
   "outputs": [],
   "source": [
    "import optuna.integration.lightgbm as lgb\n",
    "def objective(trial):\n",
    "    param_grid = {\n",
    "        'num_jobs': num_cores - 1,\n",
    "        \"n_estimators\": trial.suggest_categorical(\"n_estimators\", [10000]),\n",
    "        \"learning_rate\": trial.suggest_float(\"learning_rate\", 0.01, 0.3),\n",
    "        \"num_leaves\": trial.suggest_int(\"num_leaves\", 20, 3000, step=20),\n",
    "        \"max_depth\": trial.suggest_int(\"max_depth\", 3, 12),\n",
    "        \"min_data_in_leaf\": trial.suggest_int(\"min_data_in_leaf\", 200, 10000, step=100),\n",
    "        \"lambda_l1\": trial.suggest_int(\"lambda_l1\", 0, 100, step=5),\n",
    "        \"lambda_l2\": trial.suggest_int(\"lambda_l2\", 0, 100, step=5),\n",
    "        \"min_gain_to_split\": trial.suggest_float(\"min_gain_to_split\", 0, 15),\n",
    "        \"bagging_fraction\": trial.suggest_float(\n",
    "            \"bagging_fraction\", 0.2, 0.95, step=0.1\n",
    "        ),\n",
    "    }\n",
    "    \n",
    "    model_lgbm = LGBMRegressor()\n",
    "    mean_lgbm = cross_validate_manual(X_train, y_train, model_lgbm)\n",
    "#     print(\"LGBM: \", np.abs(10e6*mean_lgbm))\n",
    "    \n",
    "    return np.abs(10e6*mean_lgbm)"
   ]
  },
  {
   "cell_type": "code",
   "execution_count": null,
   "id": "ef85e3eb",
   "metadata": {},
   "outputs": [],
   "source": []
  }
 ],
 "metadata": {
  "kernelspec": {
   "display_name": "Python 3 (ipykernel)",
   "language": "python",
   "name": "python3"
  },
  "language_info": {
   "codemirror_mode": {
    "name": "ipython",
    "version": 3
   },
   "file_extension": ".py",
   "mimetype": "text/x-python",
   "name": "python",
   "nbconvert_exporter": "python",
   "pygments_lexer": "ipython3",
   "version": "3.8.10"
  }
 },
 "nbformat": 4,
 "nbformat_minor": 5
}
