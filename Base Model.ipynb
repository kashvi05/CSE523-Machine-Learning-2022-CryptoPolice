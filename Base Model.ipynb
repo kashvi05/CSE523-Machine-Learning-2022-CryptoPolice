{
 "cells": [
  {
   "cell_type": "code",
   "execution_count": 1,
   "id": "0f2148d5",
   "metadata": {},
   "outputs": [],
   "source": [
    "from pyspark import SparkConf, SparkContext\n",
    "from pyspark.sql import SparkSession\n",
    "import pyspark.sql.types as t\n",
    "import pyspark.sql.functions as f\n",
    "import seaborn as sns\n",
    "import matplotlib.dates as mdates\n",
    "import matplotlib.pyplot as plt\n",
    "import pandas as pd\n",
    "\n",
    "SEED_VALUE = 42"
   ]
  },
  {
   "cell_type": "code",
   "execution_count": 2,
   "id": "e6dddba1",
   "metadata": {},
   "outputs": [
    {
     "data": {
      "text/html": [
       "\n",
       "            <div>\n",
       "                <p><b>SparkSession - in-memory</b></p>\n",
       "                \n",
       "        <div>\n",
       "            <p><b>SparkContext</b></p>\n",
       "\n",
       "            <p><a href=\"http://192.168.1.3:4040\">Spark UI</a></p>\n",
       "\n",
       "            <dl>\n",
       "              <dt>Version</dt>\n",
       "                <dd><code>v3.2.1</code></dd>\n",
       "              <dt>Master</dt>\n",
       "                <dd><code>local[*]</code></dd>\n",
       "              <dt>AppName</dt>\n",
       "                <dd><code>pyspark-shell</code></dd>\n",
       "            </dl>\n",
       "        </div>\n",
       "        \n",
       "            </div>\n",
       "        "
      ],
      "text/plain": [
       "<pyspark.sql.session.SparkSession at 0x7f4893dacf70>"
      ]
     },
     "execution_count": 2,
     "metadata": {},
     "output_type": "execute_result"
    }
   ],
   "source": [
    "spark = (SparkSession.builder.config(\"spark.driver.memory\",\"5g\").config(\"spark.driver.maxResultSize\", \"5g\").getOrCreate())\n",
    "spark"
   ]
  },
  {
   "cell_type": "code",
   "execution_count": null,
   "id": "007e7726",
   "metadata": {},
   "outputs": [],
   "source": [
    "%%time\n",
    "from pyspark.sql.types import DoubleType\n",
    "\n",
    "\n",
    "X_train = spark.read.csv(\"./Dataset/train.csv\", header=True, inferSchema=True)\n",
    "X_test = spark.read.csv(\"./Dataset/example_test.csv\", header=True, inferSchema=True)\n",
    "\n",
    "# Convert VWAP Feature to double\n",
    "X_train = X_train.withColumn(\"VWAP\", X_train.VWAP.cast(DoubleType()))\n",
    "\n",
    "X_train.printSchema()"
   ]
  },
  {
   "cell_type": "code",
   "execution_count": null,
   "id": "769298f2",
   "metadata": {},
   "outputs": [],
   "source": [
    "X_train.head(1)"
   ]
  },
  {
   "cell_type": "code",
   "execution_count": null,
   "id": "323ec537",
   "metadata": {},
   "outputs": [],
   "source": [
    "%%time\n",
    "# Check null values if any\n",
    "\n",
    "X_train.select([f.count(f.when(f.isnull(c), c)).alias(c) for c in X_train.columns]).show()"
   ]
  },
  {
   "cell_type": "code",
   "execution_count": null,
   "id": "d4907b55",
   "metadata": {},
   "outputs": [],
   "source": [
    "# Drop missing values\n",
    "X_train = X_train.na.drop()"
   ]
  },
  {
   "cell_type": "code",
   "execution_count": null,
   "id": "9e15f38f",
   "metadata": {},
   "outputs": [],
   "source": [
    "%%time\n",
    "# Check null values if any\n",
    "\n",
    "X_train.select([f.count(f.when(f.isnull(c), c)).alias(c) for c in X_train.columns]).show()"
   ]
  },
  {
   "cell_type": "code",
   "execution_count": null,
   "id": "85e98180",
   "metadata": {},
   "outputs": [],
   "source": [
    "col_features = ['Count', \"Open\", \"High\", \"Low\", \"Close\", \"Volume\"]"
   ]
  },
  {
   "cell_type": "code",
   "execution_count": null,
   "id": "c3cda5f6",
   "metadata": {},
   "outputs": [],
   "source": [
    "from pyspark.ml.feature import VectorAssembler\n",
    "\n",
    "vecAssembler = VectorAssembler(inputCols=col_features, outputCol=\"features\")\n",
    "output = vecAssembler.transform(X_train).select('features', 'Target')\n",
    "\n",
    "output.select('features').show()"
   ]
  },
  {
   "cell_type": "code",
   "execution_count": null,
   "id": "c46dfaed",
   "metadata": {
    "scrolled": true
   },
   "outputs": [],
   "source": [
    "# Base Model (Without Time series considerations)\n",
    "from pyspark.ml.regression import LinearRegression\n",
    "train_data, test_data = output.randomSplit([0.75, 0.25]) # Randomly split the data into training and testing\n",
    "\n",
    "lr = LinearRegression(featuresCol=\"features\", labelCol = \"Target\")\n",
    "\n",
    "lrModel = lr.fit(train_data) # Fit the model"
   ]
  },
  {
   "cell_type": "code",
   "execution_count": null,
   "id": "a1b86649",
   "metadata": {},
   "outputs": [],
   "source": [
    "lrModel.coefficients"
   ]
  },
  {
   "cell_type": "code",
   "execution_count": null,
   "id": "605c6940",
   "metadata": {},
   "outputs": [],
   "source": [
    "lrModel.intercept"
   ]
  },
  {
   "cell_type": "code",
   "execution_count": 15,
   "id": "3e9316fe",
   "metadata": {},
   "outputs": [
    {
     "name": "stderr",
     "output_type": "stream",
     "text": [
      "/home/sameep/.local/lib/python3.8/site-packages/pyspark/sql/context.py:125: FutureWarning: Deprecated in 3.0.0. Use SparkSession.builder.getOrCreate() instead.\n",
      "  warnings.warn(\n"
     ]
    },
    {
     "name": "stdout",
     "output_type": "stream",
     "text": [
      "+--------------------+--------------------+--------------------+\n",
      "|            features|              Target|          prediction|\n",
      "+--------------------+--------------------+--------------------+\n",
      "|[1.0,0.0251,0.025...|7.785829789781484E-4|-3.23497948120739...|\n",
      "|[1.0,0.030485,0.0...|-0.01314475873544...|-3.51733445792442...|\n",
      "|[1.0,0.03055,0.03...|0.007245901639344243|-3.50072249715613...|\n",
      "|[1.0,0.0309,0.030...|0.013009708737864223|-3.42106101244415...|\n",
      "|[1.0,0.0310170000...|0.001958224543081144|-3.20289515509599...|\n",
      "|[1.0,0.03102,0.03...|-0.02023690410870...|-3.46525996110049...|\n",
      "|[1.0,0.03184,0.03...|0.026107694238734824|-3.50332191630705...|\n",
      "|[1.0,0.03193,0.03...|-0.03343749999999979|-3.40981882241790...|\n",
      "|[1.0,0.032,0.032,...|-0.03998124413879...|-3.50583064507680...|\n",
      "|[1.0,0.032234,0.0...|0.010310555159922075|-3.47381560174487...|\n",
      "|[1.0,0.0322470000...|-0.01086517865458...|-3.22566142574302...|\n",
      "|[1.0,0.0323100000...|-0.00675925925925...|-3.49029660570717...|\n",
      "|[1.0,0.03258,0.03...|-6.09942055504686...|-3.50787972036627...|\n",
      "|[1.0,0.032667,0.0...|-0.00701150132234...|-3.47372831570887...|\n",
      "|[1.0,0.032859,0.0...|-0.01865489957394...|-3.48508112170945...|\n",
      "|[1.0,0.0329,0.032...|-0.00274390243902...|-3.44766687090663...|\n",
      "|[1.0,0.03291,0.03...|0.004787878787878785|-3.50817528972497...|\n",
      "|[1.0,0.033149,0.0...|3.031313468127017E-5|-3.43270097455543...|\n",
      "|[1.0,0.0334,0.033...|-0.01230538922155...|-3.49153119633466...|\n",
      "|[1.0,0.03345,0.03...|0.014947683109118204|-3.48013838201685...|\n",
      "+--------------------+--------------------+--------------------+\n",
      "only showing top 20 rows\n",
      "\n",
      "CPU times: user 22.6 ms, sys: 0 ns, total: 22.6 ms\n",
      "Wall time: 1min 22s\n"
     ]
    }
   ],
   "source": [
    "%%time\n",
    "# Predict/Evaluate on test data\n",
    "\n",
    "pred_results = lrModel.evaluate(test_data)\n",
    "pred_results.predictions.show()"
   ]
  },
  {
   "cell_type": "code",
   "execution_count": 16,
   "id": "c891d4ee",
   "metadata": {},
   "outputs": [
    {
     "name": "stdout",
     "output_type": "stream",
     "text": [
      "CPU times: user 24.5 s, sys: 3.4 s, total: 27.9 s\n",
      "Wall time: 28.2 s\n"
     ]
    },
    {
     "data": {
      "text/html": [
       "<div>\n",
       "<style scoped>\n",
       "    .dataframe tbody tr th:only-of-type {\n",
       "        vertical-align: middle;\n",
       "    }\n",
       "\n",
       "    .dataframe tbody tr th {\n",
       "        vertical-align: top;\n",
       "    }\n",
       "\n",
       "    .dataframe thead th {\n",
       "        text-align: right;\n",
       "    }\n",
       "</style>\n",
       "<table border=\"1\" class=\"dataframe\">\n",
       "  <thead>\n",
       "    <tr style=\"text-align: right;\">\n",
       "      <th></th>\n",
       "      <th>timestamp</th>\n",
       "      <th>Asset_ID</th>\n",
       "      <th>Count</th>\n",
       "      <th>Open</th>\n",
       "      <th>High</th>\n",
       "      <th>Low</th>\n",
       "      <th>Close</th>\n",
       "      <th>Volume</th>\n",
       "      <th>VWAP</th>\n",
       "      <th>Target</th>\n",
       "    </tr>\n",
       "  </thead>\n",
       "  <tbody>\n",
       "    <tr>\n",
       "      <th>0</th>\n",
       "      <td>1514764860</td>\n",
       "      <td>2</td>\n",
       "      <td>40.0</td>\n",
       "      <td>2376.5800</td>\n",
       "      <td>2399.5000</td>\n",
       "      <td>2357.1400</td>\n",
       "      <td>2374.5900</td>\n",
       "      <td>19.233005</td>\n",
       "      <td>2373.116392</td>\n",
       "      <td>-0.004218</td>\n",
       "    </tr>\n",
       "    <tr>\n",
       "      <th>1</th>\n",
       "      <td>1514764860</td>\n",
       "      <td>0</td>\n",
       "      <td>5.0</td>\n",
       "      <td>8.5300</td>\n",
       "      <td>8.5300</td>\n",
       "      <td>8.5300</td>\n",
       "      <td>8.5300</td>\n",
       "      <td>78.380000</td>\n",
       "      <td>8.530000</td>\n",
       "      <td>-0.014399</td>\n",
       "    </tr>\n",
       "    <tr>\n",
       "      <th>2</th>\n",
       "      <td>1514764860</td>\n",
       "      <td>1</td>\n",
       "      <td>229.0</td>\n",
       "      <td>13835.1940</td>\n",
       "      <td>14013.8000</td>\n",
       "      <td>13666.1100</td>\n",
       "      <td>13850.1760</td>\n",
       "      <td>31.550062</td>\n",
       "      <td>13827.062093</td>\n",
       "      <td>-0.014643</td>\n",
       "    </tr>\n",
       "    <tr>\n",
       "      <th>3</th>\n",
       "      <td>1514764860</td>\n",
       "      <td>5</td>\n",
       "      <td>32.0</td>\n",
       "      <td>7.6596</td>\n",
       "      <td>7.6596</td>\n",
       "      <td>7.6567</td>\n",
       "      <td>7.6576</td>\n",
       "      <td>6626.713370</td>\n",
       "      <td>7.657713</td>\n",
       "      <td>-0.013922</td>\n",
       "    </tr>\n",
       "    <tr>\n",
       "      <th>4</th>\n",
       "      <td>1514764860</td>\n",
       "      <td>7</td>\n",
       "      <td>5.0</td>\n",
       "      <td>25.9200</td>\n",
       "      <td>25.9200</td>\n",
       "      <td>25.8740</td>\n",
       "      <td>25.8770</td>\n",
       "      <td>121.087310</td>\n",
       "      <td>25.891363</td>\n",
       "      <td>-0.008264</td>\n",
       "    </tr>\n",
       "  </tbody>\n",
       "</table>\n",
       "</div>"
      ],
      "text/plain": [
       "    timestamp  Asset_ID  Count        Open        High         Low  \\\n",
       "0  1514764860         2   40.0   2376.5800   2399.5000   2357.1400   \n",
       "1  1514764860         0    5.0      8.5300      8.5300      8.5300   \n",
       "2  1514764860         1  229.0  13835.1940  14013.8000  13666.1100   \n",
       "3  1514764860         5   32.0      7.6596      7.6596      7.6567   \n",
       "4  1514764860         7    5.0     25.9200     25.9200     25.8740   \n",
       "\n",
       "        Close       Volume          VWAP    Target  \n",
       "0   2374.5900    19.233005   2373.116392 -0.004218  \n",
       "1      8.5300    78.380000      8.530000 -0.014399  \n",
       "2  13850.1760    31.550062  13827.062093 -0.014643  \n",
       "3      7.6576  6626.713370      7.657713 -0.013922  \n",
       "4     25.8770   121.087310     25.891363 -0.008264  "
      ]
     },
     "execution_count": 16,
     "metadata": {},
     "output_type": "execute_result"
    }
   ],
   "source": [
    "%%time\n",
    "\n",
    "X_train = pd.read_csv(\"./Dataset/train.csv\")\n",
    "X_train.head()"
   ]
  },
  {
   "cell_type": "code",
   "execution_count": 17,
   "id": "ca757d7b",
   "metadata": {},
   "outputs": [
    {
     "data": {
      "text/html": [
       "<div>\n",
       "<style scoped>\n",
       "    .dataframe tbody tr th:only-of-type {\n",
       "        vertical-align: middle;\n",
       "    }\n",
       "\n",
       "    .dataframe tbody tr th {\n",
       "        vertical-align: top;\n",
       "    }\n",
       "\n",
       "    .dataframe thead th {\n",
       "        text-align: right;\n",
       "    }\n",
       "</style>\n",
       "<table border=\"1\" class=\"dataframe\">\n",
       "  <thead>\n",
       "    <tr style=\"text-align: right;\">\n",
       "      <th></th>\n",
       "      <th>timestamp</th>\n",
       "      <th>Asset_ID</th>\n",
       "      <th>Count</th>\n",
       "      <th>Open</th>\n",
       "      <th>High</th>\n",
       "      <th>Low</th>\n",
       "      <th>Close</th>\n",
       "      <th>Volume</th>\n",
       "      <th>VWAP</th>\n",
       "      <th>Target</th>\n",
       "    </tr>\n",
       "  </thead>\n",
       "  <tbody>\n",
       "    <tr>\n",
       "      <th>count</th>\n",
       "      <td>2.348646e+07</td>\n",
       "      <td>2.348646e+07</td>\n",
       "      <td>2.348646e+07</td>\n",
       "      <td>2.348646e+07</td>\n",
       "      <td>2.348646e+07</td>\n",
       "      <td>2.348646e+07</td>\n",
       "      <td>2.348646e+07</td>\n",
       "      <td>2.348646e+07</td>\n",
       "      <td>2.348646e+07</td>\n",
       "      <td>2.348646e+07</td>\n",
       "    </tr>\n",
       "    <tr>\n",
       "      <th>mean</th>\n",
       "      <td>1.577541e+09</td>\n",
       "      <td>6.224257e+00</td>\n",
       "      <td>2.954028e+02</td>\n",
       "      <td>1.476051e+03</td>\n",
       "      <td>1.479876e+03</td>\n",
       "      <td>1.472882e+03</td>\n",
       "      <td>1.476050e+03</td>\n",
       "      <td>2.947317e+05</td>\n",
       "      <td>NaN</td>\n",
       "      <td>7.121863e-06</td>\n",
       "    </tr>\n",
       "    <tr>\n",
       "      <th>std</th>\n",
       "      <td>3.333367e+07</td>\n",
       "      <td>4.099476e+00</td>\n",
       "      <td>8.796244e+02</td>\n",
       "      <td>6.119951e+03</td>\n",
       "      <td>6.129966e+03</td>\n",
       "      <td>6.110473e+03</td>\n",
       "      <td>6.119956e+03</td>\n",
       "      <td>2.471421e+06</td>\n",
       "      <td>NaN</td>\n",
       "      <td>5.679042e-03</td>\n",
       "    </tr>\n",
       "    <tr>\n",
       "      <th>min</th>\n",
       "      <td>1.514765e+09</td>\n",
       "      <td>0.000000e+00</td>\n",
       "      <td>1.000000e+00</td>\n",
       "      <td>1.170400e-03</td>\n",
       "      <td>1.195000e-03</td>\n",
       "      <td>2.000000e-04</td>\n",
       "      <td>1.171400e-03</td>\n",
       "      <td>-3.662812e-01</td>\n",
       "      <td>-inf</td>\n",
       "      <td>-5.093509e-01</td>\n",
       "    </tr>\n",
       "    <tr>\n",
       "      <th>25%</th>\n",
       "      <td>1.549306e+09</td>\n",
       "      <td>3.000000e+00</td>\n",
       "      <td>2.200000e+01</td>\n",
       "      <td>2.808670e-01</td>\n",
       "      <td>2.819000e-01</td>\n",
       "      <td>2.800000e-01</td>\n",
       "      <td>2.808736e-01</td>\n",
       "      <td>1.493896e+02</td>\n",
       "      <td>2.808644e-01</td>\n",
       "      <td>-1.694353e-03</td>\n",
       "    </tr>\n",
       "    <tr>\n",
       "      <th>50%</th>\n",
       "      <td>1.578971e+09</td>\n",
       "      <td>6.000000e+00</td>\n",
       "      <td>6.900000e+01</td>\n",
       "      <td>1.486842e+01</td>\n",
       "      <td>1.489000e+01</td>\n",
       "      <td>1.484400e+01</td>\n",
       "      <td>1.486866e+01</td>\n",
       "      <td>1.332360e+03</td>\n",
       "      <td>1.486720e+01</td>\n",
       "      <td>-4.289820e-05</td>\n",
       "    </tr>\n",
       "    <tr>\n",
       "      <th>75%</th>\n",
       "      <td>1.606979e+09</td>\n",
       "      <td>9.000000e+00</td>\n",
       "      <td>2.310000e+02</td>\n",
       "      <td>2.349650e+02</td>\n",
       "      <td>2.353800e+02</td>\n",
       "      <td>2.345200e+02</td>\n",
       "      <td>2.349686e+02</td>\n",
       "      <td>2.911512e+04</td>\n",
       "      <td>2.349653e+02</td>\n",
       "      <td>1.601519e-03</td>\n",
       "    </tr>\n",
       "    <tr>\n",
       "      <th>max</th>\n",
       "      <td>1.632181e+09</td>\n",
       "      <td>1.300000e+01</td>\n",
       "      <td>1.650160e+05</td>\n",
       "      <td>6.480594e+04</td>\n",
       "      <td>6.490000e+04</td>\n",
       "      <td>6.467053e+04</td>\n",
       "      <td>6.480854e+04</td>\n",
       "      <td>7.597554e+08</td>\n",
       "      <td>inf</td>\n",
       "      <td>9.641699e-01</td>\n",
       "    </tr>\n",
       "  </tbody>\n",
       "</table>\n",
       "</div>"
      ],
      "text/plain": [
       "          timestamp      Asset_ID         Count          Open          High  \\\n",
       "count  2.348646e+07  2.348646e+07  2.348646e+07  2.348646e+07  2.348646e+07   \n",
       "mean   1.577541e+09  6.224257e+00  2.954028e+02  1.476051e+03  1.479876e+03   \n",
       "std    3.333367e+07  4.099476e+00  8.796244e+02  6.119951e+03  6.129966e+03   \n",
       "min    1.514765e+09  0.000000e+00  1.000000e+00  1.170400e-03  1.195000e-03   \n",
       "25%    1.549306e+09  3.000000e+00  2.200000e+01  2.808670e-01  2.819000e-01   \n",
       "50%    1.578971e+09  6.000000e+00  6.900000e+01  1.486842e+01  1.489000e+01   \n",
       "75%    1.606979e+09  9.000000e+00  2.310000e+02  2.349650e+02  2.353800e+02   \n",
       "max    1.632181e+09  1.300000e+01  1.650160e+05  6.480594e+04  6.490000e+04   \n",
       "\n",
       "                Low         Close        Volume          VWAP        Target  \n",
       "count  2.348646e+07  2.348646e+07  2.348646e+07  2.348646e+07  2.348646e+07  \n",
       "mean   1.472882e+03  1.476050e+03  2.947317e+05           NaN  7.121863e-06  \n",
       "std    6.110473e+03  6.119956e+03  2.471421e+06           NaN  5.679042e-03  \n",
       "min    2.000000e-04  1.171400e-03 -3.662812e-01          -inf -5.093509e-01  \n",
       "25%    2.800000e-01  2.808736e-01  1.493896e+02  2.808644e-01 -1.694353e-03  \n",
       "50%    1.484400e+01  1.486866e+01  1.332360e+03  1.486720e+01 -4.289820e-05  \n",
       "75%    2.345200e+02  2.349686e+02  2.911512e+04  2.349653e+02  1.601519e-03  \n",
       "max    6.467053e+04  6.480854e+04  7.597554e+08           inf  9.641699e-01  "
      ]
     },
     "execution_count": 17,
     "metadata": {},
     "output_type": "execute_result"
    }
   ],
   "source": [
    "X_train.dropna(inplace=True)\n",
    "X_train.describe()"
   ]
  },
  {
   "cell_type": "code",
   "execution_count": 18,
   "id": "4107c272",
   "metadata": {},
   "outputs": [],
   "source": [
    "y_train = X_train['Target']\n",
    "X_train = X_train.drop([\"Target\", \"VWAP\"], axis=1)"
   ]
  },
  {
   "cell_type": "code",
   "execution_count": 19,
   "id": "35dfd25d",
   "metadata": {},
   "outputs": [],
   "source": [
    "from sklearn.model_selection import train_test_split\n",
    "X_train_1, X_test, y_train_1, y_test = train_test_split(X_train, y_train, random_state=SEED_VALUE, train_size=0.80)"
   ]
  },
  {
   "cell_type": "code",
   "execution_count": 1,
   "id": "58d4e430",
   "metadata": {},
   "outputs": [
    {
     "ename": "NameError",
     "evalue": "name 'X_train' is not defined",
     "output_type": "error",
     "traceback": [
      "\u001b[0;31m---------------------------------------------------------------------------\u001b[0m",
      "\u001b[0;31mNameError\u001b[0m                                 Traceback (most recent call last)",
      "Input \u001b[0;32mIn [1]\u001b[0m, in \u001b[0;36m<module>\u001b[0;34m\u001b[0m\n\u001b[1;32m      1\u001b[0m \u001b[38;5;28;01mfrom\u001b[39;00m \u001b[38;5;21;01msklearn\u001b[39;00m\u001b[38;5;21;01m.\u001b[39;00m\u001b[38;5;21;01mlinear_model\u001b[39;00m \u001b[38;5;28;01mimport\u001b[39;00m LinearRegression\n\u001b[1;32m      3\u001b[0m lr_model \u001b[38;5;241m=\u001b[39m LinearRegression()\n\u001b[0;32m----> 5\u001b[0m fitted_lr_model \u001b[38;5;241m=\u001b[39m lr_model\u001b[38;5;241m.\u001b[39mfit(\u001b[43mX_train\u001b[49m, y_train)\n",
      "\u001b[0;31mNameError\u001b[0m: name 'X_train' is not defined"
     ]
    }
   ],
   "source": [
    "from sklearn.linear_model import LinearRegression\n",
    "\n",
    "lr_model = LinearRegression()\n",
    "\n",
    "fitted_lr_model = lr_model.fit(X_train, y_train)"
   ]
  },
  {
   "cell_type": "code",
   "execution_count": null,
   "id": "b7317406",
   "metadata": {},
   "outputs": [],
   "source": [
    "preds = fitted_lr_model.predict(X_test)\n",
    "preds"
   ]
  },
  {
   "cell_type": "code",
   "execution_count": null,
   "id": "ddd730b7",
   "metadata": {},
   "outputs": [],
   "source": [
    "from sklearn.metrics import mean_absolute_error\n",
    "\n",
    "mae = mean_absolute_error(y_test, preds)\n",
    "mae"
   ]
  },
  {
   "cell_type": "code",
   "execution_count": null,
   "id": "adcee062",
   "metadata": {},
   "outputs": [],
   "source": []
  }
 ],
 "metadata": {
  "kernelspec": {
   "display_name": "Python 3",
   "language": "python",
   "name": "python3"
  },
  "language_info": {
   "codemirror_mode": {
    "name": "ipython",
    "version": 3
   },
   "file_extension": ".py",
   "mimetype": "text/x-python",
   "name": "python",
   "nbconvert_exporter": "python",
   "pygments_lexer": "ipython3",
   "version": "3.8.10"
  }
 },
 "nbformat": 4,
 "nbformat_minor": 5
}
