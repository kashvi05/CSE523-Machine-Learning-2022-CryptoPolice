{
 "cells": [
  {
   "cell_type": "markdown",
   "id": "addb2f93",
   "metadata": {},
   "source": [
    "# Things to be done\n",
    "\n",
    "* Missing Values and its imputations\n",
    "* Temporal Variables\n",
    "* Trend\n",
    "* Seasonality\n",
    "* Moving Average"
   ]
  },
  {
   "cell_type": "code",
   "execution_count": 1,
   "id": "a7766eea",
   "metadata": {},
   "outputs": [],
   "source": [
    "import numpy as np\n",
    "import pandas as pd\n",
    "import seaborn as sns\n",
    "import matplotlib \n",
    "import matplotlib.pyplot as plt\n",
    "from pyspark import SparkConf, SparkContext\n",
    "from pyspark.sql import SparkSession\n",
    "import pyspark.sql.types as t\n",
    "import pyspark.sql.functions as f"
   ]
  },
  {
   "cell_type": "code",
   "execution_count": 2,
   "id": "383ace41",
   "metadata": {},
   "outputs": [
    {
     "name": "stderr",
     "output_type": "stream",
     "text": [
      "22/04/06 13:53:51 WARN Utils: Your hostname, kashvi-Inspiron-5579 resolves to a loopback address: 127.0.1.1; using 10.1.72.165 instead (on interface wlp1s0)\n",
      "22/04/06 13:53:51 WARN Utils: Set SPARK_LOCAL_IP if you need to bind to another address\n",
      "Using Spark's default log4j profile: org/apache/spark/log4j-defaults.properties\n",
      "Setting default log level to \"WARN\".\n",
      "To adjust logging level use sc.setLogLevel(newLevel). For SparkR, use setLogLevel(newLevel).\n",
      "22/04/06 13:53:52 WARN NativeCodeLoader: Unable to load native-hadoop library for your platform... using builtin-java classes where applicable\n"
     ]
    },
    {
     "data": {
      "text/html": [
       "\n",
       "            <div>\n",
       "                <p><b>SparkSession - in-memory</b></p>\n",
       "                \n",
       "        <div>\n",
       "            <p><b>SparkContext</b></p>\n",
       "\n",
       "            <p><a href=\"http://10.1.72.165:4040\">Spark UI</a></p>\n",
       "\n",
       "            <dl>\n",
       "              <dt>Version</dt>\n",
       "                <dd><code>v3.2.1</code></dd>\n",
       "              <dt>Master</dt>\n",
       "                <dd><code>local[*]</code></dd>\n",
       "              <dt>AppName</dt>\n",
       "                <dd><code>pyspark-shell</code></dd>\n",
       "            </dl>\n",
       "        </div>\n",
       "        \n",
       "            </div>\n",
       "        "
      ],
      "text/plain": [
       "<pyspark.sql.session.SparkSession at 0x7f075978acd0>"
      ]
     },
     "execution_count": 2,
     "metadata": {},
     "output_type": "execute_result"
    }
   ],
   "source": [
    "# Create a pyspark session\n",
    "spark = SparkSession.builder.config(\"spark.driver.memory\",\"4g\").config(\"spark.driver.maxResultSize\", \"4g\").getOrCreate()\n",
    "spark"
   ]
  },
  {
   "cell_type": "code",
   "execution_count": 3,
   "id": "342644f7",
   "metadata": {},
   "outputs": [],
   "source": [
    "SEED_VALUE = 42\n",
    "colors = ['r', 'g', 'b'] # Seaborn color coding"
   ]
  },
  {
   "cell_type": "code",
   "execution_count": 4,
   "id": "3b7423b4",
   "metadata": {},
   "outputs": [
    {
     "name": "stderr",
     "output_type": "stream",
     "text": [
      "                                                                                \r"
     ]
    },
    {
     "name": "stdout",
     "output_type": "stream",
     "text": [
      "root\n",
      " |-- timestamp: integer (nullable = true)\n",
      " |-- Asset_ID: integer (nullable = true)\n",
      " |-- Count: double (nullable = true)\n",
      " |-- Open: double (nullable = true)\n",
      " |-- High: double (nullable = true)\n",
      " |-- Low: double (nullable = true)\n",
      " |-- Close: double (nullable = true)\n",
      " |-- Volume: double (nullable = true)\n",
      " |-- VWAP: string (nullable = true)\n",
      " |-- Target: double (nullable = true)\n",
      "\n",
      "CPU times: user 24 ms, sys: 4.04 ms, total: 28 ms\n",
      "Wall time: 39 s\n"
     ]
    }
   ],
   "source": [
    "%%time\n",
    "\n",
    "# importing data\n",
    "X_train = spark.read.csv(\"./Dataset/train.csv\", header=True, inferSchema=True)\n",
    "X_test = spark.read.csv(\"./Dataset/example_test.csv\", header=True, inferSchema=True)\n",
    "X_train.printSchema()"
   ]
  },
  {
   "cell_type": "code",
   "execution_count": 5,
   "id": "ed12e6e3",
   "metadata": {},
   "outputs": [
    {
     "name": "stdout",
     "output_type": "stream",
     "text": [
      "root\n",
      " |-- timestamp: integer (nullable = true)\n",
      " |-- Asset_ID: integer (nullable = true)\n",
      " |-- Count: double (nullable = true)\n",
      " |-- Open: double (nullable = true)\n",
      " |-- High: double (nullable = true)\n",
      " |-- Low: double (nullable = true)\n",
      " |-- Close: double (nullable = true)\n",
      " |-- Volume: double (nullable = true)\n",
      " |-- VWAP: double (nullable = true)\n",
      " |-- Target: double (nullable = true)\n",
      "\n"
     ]
    }
   ],
   "source": [
    "# Convert VWAP into double datatype\n",
    "from pyspark.sql.types import FloatType, DoubleType\n",
    "\n",
    "X_train = X_train.withColumn(\"VWAP\", X_train.VWAP.cast(DoubleType()))\n",
    "X_train = X_train.withColumn(\"Target\", X_train.VWAP.cast(DoubleType()))\n",
    "X_train.printSchema()"
   ]
  },
  {
   "cell_type": "code",
   "execution_count": 9,
   "id": "8c175936",
   "metadata": {},
   "outputs": [
    {
     "name": "stderr",
     "output_type": "stream",
     "text": [
      "[Stage 16:=====================================================>  (21 + 1) / 22]\r"
     ]
    },
    {
     "name": "stdout",
     "output_type": "stream",
     "text": [
      "CPU times: user 36.1 ms, sys: 5.49 ms, total: 41.6 ms\n",
      "Wall time: 28.8 s\n"
     ]
    },
    {
     "name": "stderr",
     "output_type": "stream",
     "text": [
      "\r",
      "                                                                                \r"
     ]
    },
    {
     "data": {
      "text/html": [
       "<div>\n",
       "<style scoped>\n",
       "    .dataframe tbody tr th:only-of-type {\n",
       "        vertical-align: middle;\n",
       "    }\n",
       "\n",
       "    .dataframe tbody tr th {\n",
       "        vertical-align: top;\n",
       "    }\n",
       "\n",
       "    .dataframe thead th {\n",
       "        text-align: right;\n",
       "    }\n",
       "</style>\n",
       "<table border=\"1\" class=\"dataframe\">\n",
       "  <thead>\n",
       "    <tr style=\"text-align: right;\">\n",
       "      <th></th>\n",
       "      <th>timestamp</th>\n",
       "      <th>Asset_ID</th>\n",
       "      <th>Count</th>\n",
       "      <th>Open</th>\n",
       "      <th>High</th>\n",
       "      <th>Low</th>\n",
       "      <th>Close</th>\n",
       "      <th>Volume</th>\n",
       "      <th>VWAP</th>\n",
       "      <th>Target</th>\n",
       "    </tr>\n",
       "  </thead>\n",
       "  <tbody>\n",
       "    <tr>\n",
       "      <th>0</th>\n",
       "      <td>0</td>\n",
       "      <td>0</td>\n",
       "      <td>0</td>\n",
       "      <td>0</td>\n",
       "      <td>0</td>\n",
       "      <td>0</td>\n",
       "      <td>0</td>\n",
       "      <td>0</td>\n",
       "      <td>9</td>\n",
       "      <td>9</td>\n",
       "    </tr>\n",
       "  </tbody>\n",
       "</table>\n",
       "</div>"
      ],
      "text/plain": [
       "   timestamp  Asset_ID  Count  Open  High  Low  Close  Volume  VWAP  Target\n",
       "0          0         0      0     0     0    0      0       0     9       9"
      ]
     },
     "execution_count": 9,
     "metadata": {},
     "output_type": "execute_result"
    }
   ],
   "source": [
    "%%time\n",
    "\n",
    "# Count Null Values in each column\n",
    "X_train.select([f.count(f.when(f.isnull(c), c)).alias(c) for c in X_train.columns]).toPandas().head()"
   ]
  },
  {
   "cell_type": "code",
   "execution_count": 11,
   "id": "257eaef9",
   "metadata": {},
   "outputs": [
    {
     "name": "stderr",
     "output_type": "stream",
     "text": [
      "                                                                                \r"
     ]
    },
    {
     "ename": "TypeError",
     "evalue": "value should be a float, int, string, bool or dict",
     "output_type": "error",
     "traceback": [
      "\u001b[0;31m---------------------------------------------------------------------------\u001b[0m",
      "\u001b[0;31mTypeError\u001b[0m                                 Traceback (most recent call last)",
      "File \u001b[0;32m<timed exec>:6\u001b[0m, in \u001b[0;36m<module>\u001b[0;34m\u001b[0m\n",
      "File \u001b[0;32m~/.local/lib/python3.8/site-packages/pyspark/sql/dataframe.py:2088\u001b[0m, in \u001b[0;36mDataFrame.fillna\u001b[0;34m(self, value, subset)\u001b[0m\n\u001b[1;32m   2038\u001b[0m \u001b[38;5;124;03m\"\"\"Replace null values, alias for ``na.fill()``.\u001b[39;00m\n\u001b[1;32m   2039\u001b[0m \u001b[38;5;124;03m:func:`DataFrame.fillna` and :func:`DataFrameNaFunctions.fill` are aliases of each other.\u001b[39;00m\n\u001b[1;32m   2040\u001b[0m \n\u001b[0;32m   (...)\u001b[0m\n\u001b[1;32m   2085\u001b[0m \u001b[38;5;124;03m+---+------+-------+\u001b[39;00m\n\u001b[1;32m   2086\u001b[0m \u001b[38;5;124;03m\"\"\"\u001b[39;00m\n\u001b[1;32m   2087\u001b[0m \u001b[38;5;28;01mif\u001b[39;00m \u001b[38;5;129;01mnot\u001b[39;00m \u001b[38;5;28misinstance\u001b[39m(value, (\u001b[38;5;28mfloat\u001b[39m, \u001b[38;5;28mint\u001b[39m, \u001b[38;5;28mstr\u001b[39m, \u001b[38;5;28mbool\u001b[39m, \u001b[38;5;28mdict\u001b[39m)):\n\u001b[0;32m-> 2088\u001b[0m     \u001b[38;5;28;01mraise\u001b[39;00m \u001b[38;5;167;01mTypeError\u001b[39;00m(\u001b[38;5;124m\"\u001b[39m\u001b[38;5;124mvalue should be a float, int, string, bool or dict\u001b[39m\u001b[38;5;124m\"\u001b[39m)\n\u001b[1;32m   2090\u001b[0m \u001b[38;5;66;03m# Note that bool validates isinstance(int), but we don't want to\u001b[39;00m\n\u001b[1;32m   2091\u001b[0m \u001b[38;5;66;03m# convert bools to floats\u001b[39;00m\n\u001b[1;32m   2093\u001b[0m \u001b[38;5;28;01mif\u001b[39;00m \u001b[38;5;129;01mnot\u001b[39;00m \u001b[38;5;28misinstance\u001b[39m(value, \u001b[38;5;28mbool\u001b[39m) \u001b[38;5;129;01mand\u001b[39;00m \u001b[38;5;28misinstance\u001b[39m(value, \u001b[38;5;28mint\u001b[39m):\n",
      "\u001b[0;31mTypeError\u001b[0m: value should be a float, int, string, bool or dict"
     ]
    }
   ],
   "source": [
    "%%time\n",
    "\n",
    "# Impute the null/missing values using pyspark mean functionality\n",
    "missing_value_features = [\"VWAP\", \"Target\"]\n",
    "\n",
    "for column in missing_value_features:\n",
    "    mean = X_train.select(f.mean(f.col(column)).alias('mean')).collect()\n",
    "    X_train.na.fill(value=mean, subset=column)\n",
    "#X_train = X_train.na.fill(value=0)"
   ]
  },
  {
   "cell_type": "code",
   "execution_count": null,
   "id": "ab8a630f",
   "metadata": {},
   "outputs": [],
   "source": [
    "def fill_with_mean(X_train, )"
   ]
  },
  {
   "cell_type": "code",
   "execution_count": 10,
   "id": "09adc848",
   "metadata": {},
   "outputs": [
    {
     "name": "stderr",
     "output_type": "stream",
     "text": [
      "[Stage 19:==================================================>     (20 + 2) / 22]\r"
     ]
    },
    {
     "name": "stdout",
     "output_type": "stream",
     "text": [
      "CPU times: user 30.6 ms, sys: 12.2 ms, total: 42.8 ms\n",
      "Wall time: 29.7 s\n"
     ]
    },
    {
     "name": "stderr",
     "output_type": "stream",
     "text": [
      "\r",
      "[Stage 19:=====================================================>  (21 + 1) / 22]\r",
      "\r",
      "                                                                                \r"
     ]
    },
    {
     "data": {
      "text/html": [
       "<div>\n",
       "<style scoped>\n",
       "    .dataframe tbody tr th:only-of-type {\n",
       "        vertical-align: middle;\n",
       "    }\n",
       "\n",
       "    .dataframe tbody tr th {\n",
       "        vertical-align: top;\n",
       "    }\n",
       "\n",
       "    .dataframe thead th {\n",
       "        text-align: right;\n",
       "    }\n",
       "</style>\n",
       "<table border=\"1\" class=\"dataframe\">\n",
       "  <thead>\n",
       "    <tr style=\"text-align: right;\">\n",
       "      <th></th>\n",
       "      <th>timestamp</th>\n",
       "      <th>Asset_ID</th>\n",
       "      <th>Count</th>\n",
       "      <th>Open</th>\n",
       "      <th>High</th>\n",
       "      <th>Low</th>\n",
       "      <th>Close</th>\n",
       "      <th>Volume</th>\n",
       "      <th>VWAP</th>\n",
       "      <th>Target</th>\n",
       "    </tr>\n",
       "  </thead>\n",
       "  <tbody>\n",
       "    <tr>\n",
       "      <th>0</th>\n",
       "      <td>0</td>\n",
       "      <td>0</td>\n",
       "      <td>0</td>\n",
       "      <td>0</td>\n",
       "      <td>0</td>\n",
       "      <td>0</td>\n",
       "      <td>0</td>\n",
       "      <td>0</td>\n",
       "      <td>9</td>\n",
       "      <td>9</td>\n",
       "    </tr>\n",
       "  </tbody>\n",
       "</table>\n",
       "</div>"
      ],
      "text/plain": [
       "   timestamp  Asset_ID  Count  Open  High  Low  Close  Volume  VWAP  Target\n",
       "0          0         0      0     0     0    0      0       0     9       9"
      ]
     },
     "execution_count": 10,
     "metadata": {},
     "output_type": "execute_result"
    }
   ],
   "source": [
    "%%time\n",
    "\n",
    "# Count Null Values in each column\n",
    "X_train.select([f.count(f.when(f.isnull(c), c)).alias(c) for c in X_train.columns]).toPandas().head()"
   ]
  },
  {
   "cell_type": "code",
   "execution_count": 15,
   "id": "efad4ae7",
   "metadata": {},
   "outputs": [
    {
     "data": {
      "text/html": [
       "<div>\n",
       "<style scoped>\n",
       "    .dataframe tbody tr th:only-of-type {\n",
       "        vertical-align: middle;\n",
       "    }\n",
       "\n",
       "    .dataframe tbody tr th {\n",
       "        vertical-align: top;\n",
       "    }\n",
       "\n",
       "    .dataframe thead th {\n",
       "        text-align: right;\n",
       "    }\n",
       "</style>\n",
       "<table border=\"1\" class=\"dataframe\">\n",
       "  <thead>\n",
       "    <tr style=\"text-align: right;\">\n",
       "      <th></th>\n",
       "      <th>summary</th>\n",
       "      <th>timestamp</th>\n",
       "      <th>Asset_ID</th>\n",
       "      <th>Count</th>\n",
       "      <th>Open</th>\n",
       "      <th>High</th>\n",
       "      <th>Low</th>\n",
       "      <th>Close</th>\n",
       "      <th>Volume</th>\n",
       "      <th>VWAP</th>\n",
       "      <th>Target</th>\n",
       "    </tr>\n",
       "  </thead>\n",
       "  <tbody>\n",
       "    <tr>\n",
       "      <th>0</th>\n",
       "      <td>count</td>\n",
       "      <td>24236806</td>\n",
       "      <td>24236806</td>\n",
       "      <td>24236806</td>\n",
       "      <td>24236806</td>\n",
       "      <td>24236806</td>\n",
       "      <td>24236806</td>\n",
       "      <td>24236806</td>\n",
       "      <td>24236806</td>\n",
       "      <td>24236806</td>\n",
       "      <td>24236806</td>\n",
       "    </tr>\n",
       "    <tr>\n",
       "      <th>1</th>\n",
       "      <td>mean</td>\n",
       "      <td>1.5771204253124714E9</td>\n",
       "      <td>6.29254353894651</td>\n",
       "      <td>286.4593481500822</td>\n",
       "      <td>1432.6404916174413</td>\n",
       "      <td>1436.3503906875424</td>\n",
       "      <td>1429.5675986148317</td>\n",
       "      <td>1432.6399774617041</td>\n",
       "      <td>286852.985609871</td>\n",
       "      <td>NaN</td>\n",
       "      <td>NaN</td>\n",
       "    </tr>\n",
       "    <tr>\n",
       "      <th>2</th>\n",
       "      <td>stddev</td>\n",
       "      <td>3.323350174207381E7</td>\n",
       "      <td>4.091860643777709</td>\n",
       "      <td>867.3981577153907</td>\n",
       "      <td>6029.60501991654</td>\n",
       "      <td>6039.4824187848</td>\n",
       "      <td>6020.26068761912</td>\n",
       "      <td>6029.610646722442</td>\n",
       "      <td>2433934.645922277</td>\n",
       "      <td>NaN</td>\n",
       "      <td>NaN</td>\n",
       "    </tr>\n",
       "    <tr>\n",
       "      <th>3</th>\n",
       "      <td>min</td>\n",
       "      <td>1514764860</td>\n",
       "      <td>0</td>\n",
       "      <td>1.0</td>\n",
       "      <td>0.0011703999999999998</td>\n",
       "      <td>0.0011949999999999999</td>\n",
       "      <td>2.0E-4</td>\n",
       "      <td>0.0011714</td>\n",
       "      <td>-0.36628118</td>\n",
       "      <td>-Infinity</td>\n",
       "      <td>-Infinity</td>\n",
       "    </tr>\n",
       "    <tr>\n",
       "      <th>4</th>\n",
       "      <td>max</td>\n",
       "      <td>1632182400</td>\n",
       "      <td>13</td>\n",
       "      <td>165016.0</td>\n",
       "      <td>64805.94375000001</td>\n",
       "      <td>64900.0</td>\n",
       "      <td>64670.53</td>\n",
       "      <td>64808.537275</td>\n",
       "      <td>7.597554031423857E8</td>\n",
       "      <td>Infinity</td>\n",
       "      <td>Infinity</td>\n",
       "    </tr>\n",
       "  </tbody>\n",
       "</table>\n",
       "</div>"
      ],
      "text/plain": [
       "  summary             timestamp           Asset_ID              Count  \\\n",
       "0   count              24236806           24236806           24236806   \n",
       "1    mean  1.5771204253124714E9   6.29254353894651  286.4593481500822   \n",
       "2  stddev   3.323350174207381E7  4.091860643777709  867.3981577153907   \n",
       "3     min            1514764860                  0                1.0   \n",
       "4     max            1632182400                 13           165016.0   \n",
       "\n",
       "                    Open                   High                 Low  \\\n",
       "0               24236806               24236806            24236806   \n",
       "1     1432.6404916174413     1436.3503906875424  1429.5675986148317   \n",
       "2       6029.60501991654        6039.4824187848    6020.26068761912   \n",
       "3  0.0011703999999999998  0.0011949999999999999              2.0E-4   \n",
       "4      64805.94375000001                64900.0            64670.53   \n",
       "\n",
       "                Close               Volume       VWAP     Target  \n",
       "0            24236806             24236806   24236806   24236806  \n",
       "1  1432.6399774617041     286852.985609871        NaN        NaN  \n",
       "2   6029.610646722442    2433934.645922277        NaN        NaN  \n",
       "3           0.0011714          -0.36628118  -Infinity  -Infinity  \n",
       "4        64808.537275  7.597554031423857E8   Infinity   Infinity  "
      ]
     },
     "execution_count": 15,
     "metadata": {},
     "output_type": "execute_result"
    }
   ],
   "source": [
    "X_train.describe().toPandas().head()"
   ]
  },
  {
   "cell_type": "code",
   "execution_count": null,
   "id": "27dbeca2",
   "metadata": {},
   "outputs": [],
   "source": []
  }
 ],
 "metadata": {
  "kernelspec": {
   "display_name": "Python 3 (ipykernel)",
   "language": "python",
   "name": "python3"
  },
  "language_info": {
   "codemirror_mode": {
    "name": "ipython",
    "version": 3
   },
   "file_extension": ".py",
   "mimetype": "text/x-python",
   "name": "python",
   "nbconvert_exporter": "python",
   "pygments_lexer": "ipython3",
   "version": "3.8.10"
  }
 },
 "nbformat": 4,
 "nbformat_minor": 5
}
