{
 "cells": [
  {
   "cell_type": "code",
   "execution_count": 1,
   "metadata": {
    "execution": {
     "iopub.execute_input": "2022-04-18T01:44:45.705562Z",
     "iopub.status.busy": "2022-04-18T01:44:45.704711Z",
     "iopub.status.idle": "2022-04-18T01:44:46.866134Z",
     "shell.execute_reply": "2022-04-18T01:44:46.865377Z",
     "shell.execute_reply.started": "2022-04-18T01:44:45.705449Z"
    }
   },
   "outputs": [],
   "source": [
    "import numpy as np\n",
    "import pandas as pd\n",
    "import seaborn as sns\n",
    "import matplotlib\n",
    "import matplotlib.pyplot as plt"
   ]
  },
  {
   "cell_type": "code",
   "execution_count": 2,
   "metadata": {
    "execution": {
     "iopub.execute_input": "2022-04-18T01:44:46.868107Z",
     "iopub.status.busy": "2022-04-18T01:44:46.867504Z",
     "iopub.status.idle": "2022-04-18T01:44:46.873134Z",
     "shell.execute_reply": "2022-04-18T01:44:46.872070Z",
     "shell.execute_reply.started": "2022-04-18T01:44:46.868059Z"
    }
   },
   "outputs": [],
   "source": [
    "color = ['r', 'g', 'b']\n",
    "color_count = 0\n",
    "SEED_VALUE = 42"
   ]
  },
  {
   "cell_type": "code",
   "execution_count": 3,
   "metadata": {
    "execution": {
     "iopub.execute_input": "2022-04-18T01:44:46.874385Z",
     "iopub.status.busy": "2022-04-18T01:44:46.874076Z",
     "iopub.status.idle": "2022-04-18T01:45:45.352392Z",
     "shell.execute_reply": "2022-04-18T01:45:45.349039Z",
     "shell.execute_reply.started": "2022-04-18T01:44:46.874353Z"
    }
   },
   "outputs": [],
   "source": [
    "%%time\n",
    "\n",
    "X_train = pd.read_csv(\"../input/g-research-crypto-forecasting/train.csv\")"
   ]
  },
  {
   "cell_type": "code",
   "execution_count": 4,
   "metadata": {
    "execution": {
     "iopub.execute_input": "2022-04-18T01:45:45.359839Z",
     "iopub.status.busy": "2022-04-18T01:45:45.357805Z",
     "iopub.status.idle": "2022-04-18T01:45:45.402347Z",
     "shell.execute_reply": "2022-04-18T01:45:45.400804Z",
     "shell.execute_reply.started": "2022-04-18T01:45:45.359706Z"
    }
   },
   "outputs": [],
   "source": [
    "X_train.info()"
   ]
  },
  {
   "cell_type": "code",
   "execution_count": 5,
   "metadata": {
    "execution": {
     "iopub.execute_input": "2022-04-18T01:45:45.420536Z",
     "iopub.status.busy": "2022-04-18T01:45:45.418385Z",
     "iopub.status.idle": "2022-04-18T01:45:45.433139Z",
     "shell.execute_reply": "2022-04-18T01:45:45.432084Z",
     "shell.execute_reply.started": "2022-04-18T01:45:45.420457Z"
    }
   },
   "outputs": [],
   "source": [
    "null_values_features = []\n",
    "\n",
    "def plot_null_values(X_train):\n",
    "    for column in X_train.columns:\n",
    "        count = (X_train[column].isnull().sum())\n",
    "        if(count != 0):\n",
    "            plt.bar(column, np.log(count))\n",
    "            null_values_features.append(column)\n",
    "        plt.xlabel(column)\n",
    "        plt.ylabel(\"Number of Missing Values (Log Scaled)\")\n",
    "    plt.title(\"Null Values\")\n",
    "    plt.show()"
   ]
  },
  {
   "cell_type": "code",
   "execution_count": 6,
   "metadata": {
    "execution": {
     "iopub.execute_input": "2022-04-18T01:45:45.435533Z",
     "iopub.status.busy": "2022-04-18T01:45:45.435211Z",
     "iopub.status.idle": "2022-04-18T01:45:46.376493Z",
     "shell.execute_reply": "2022-04-18T01:45:46.375215Z",
     "shell.execute_reply.started": "2022-04-18T01:45:45.435501Z"
    }
   },
   "outputs": [],
   "source": [
    "plot_null_values(X_train)\n",
    "\n",
    "# Print columns having null values\n",
    "print(\"Features with null values: \", null_values_features)"
   ]
  },
  {
   "cell_type": "code",
   "execution_count": 7,
   "metadata": {
    "execution": {
     "iopub.execute_input": "2022-04-18T01:45:46.381481Z",
     "iopub.status.busy": "2022-04-18T01:45:46.381047Z",
     "iopub.status.idle": "2022-04-18T01:45:54.061959Z",
     "shell.execute_reply": "2022-04-18T01:45:54.060369Z",
     "shell.execute_reply.started": "2022-04-18T01:45:46.381428Z"
    }
   },
   "outputs": [],
   "source": [
    "# Impute null values with median so that outliers dont matter\n",
    "count = 0\n",
    "median = X_train.median()\n",
    "print(\"Median for column \\n\" + str(median))\n",
    "for column in X_train.columns:\n",
    "    X_train[column] = X_train[column].replace(np.nan, median[count])\n",
    "    count += 1\n",
    "    \n",
    "plot_null_values(X_train) # Found that no missing value is there"
   ]
  },
  {
   "cell_type": "code",
   "execution_count": 18,
   "metadata": {
    "execution": {
     "iopub.execute_input": "2022-04-18T01:59:35.940612Z",
     "iopub.status.busy": "2022-04-18T01:59:35.940301Z",
     "iopub.status.idle": "2022-04-18T01:59:35.947448Z",
     "shell.execute_reply": "2022-04-18T01:59:35.946539Z",
     "shell.execute_reply.started": "2022-04-18T01:59:35.940579Z"
    }
   },
   "outputs": [],
   "source": [
    "X_train.shape"
   ]
  },
  {
   "cell_type": "code",
   "execution_count": 19,
   "metadata": {
    "execution": {
     "iopub.execute_input": "2022-04-18T01:59:45.143591Z",
     "iopub.status.busy": "2022-04-18T01:59:45.143267Z",
     "iopub.status.idle": "2022-04-18T01:59:45.161847Z",
     "shell.execute_reply": "2022-04-18T01:59:45.161161Z",
     "shell.execute_reply.started": "2022-04-18T01:59:45.143555Z"
    }
   },
   "outputs": [],
   "source": [
    "X_train.head()"
   ]
  },
  {
   "cell_type": "code",
   "execution_count": 21,
   "metadata": {
    "execution": {
     "iopub.execute_input": "2022-04-18T02:00:33.993638Z",
     "iopub.status.busy": "2022-04-18T02:00:33.993331Z",
     "iopub.status.idle": "2022-04-18T02:00:34.015364Z",
     "shell.execute_reply": "2022-04-18T02:00:34.014238Z",
     "shell.execute_reply.started": "2022-04-18T02:00:33.993602Z"
    }
   },
   "outputs": [],
   "source": [
    "count = 0\n",
    "median = X_train.median()\n",
    "print(\"Median for column \\n\" + str(median))\n",
    "for column in X_train.columns:\n",
    "    if column not in ['new_date']:\n",
    "        X_train[column] = X_train[column].replace(np.nan, median[count])\n",
    "        count += 1"
   ]
  },
  {
   "cell_type": "code",
   "execution_count": 9,
   "metadata": {
    "execution": {
     "iopub.execute_input": "2022-04-18T01:45:55.184145Z",
     "iopub.status.busy": "2022-04-18T01:45:55.182836Z",
     "iopub.status.idle": "2022-04-18T01:45:58.277897Z",
     "shell.execute_reply": "2022-04-18T01:45:58.276814Z",
     "shell.execute_reply.started": "2022-04-18T01:45:55.184074Z"
    }
   },
   "outputs": [],
   "source": [
    "%%time\n",
    "\n",
    "# Convert timestamp to human readable format\n",
    "\n",
    "X_train['timestamp'] = pd.to_datetime(X_train['timestamp'], unit='s')\n",
    "X_train.head()\n"
   ]
  },
  {
   "cell_type": "code",
   "execution_count": 10,
   "metadata": {
    "execution": {
     "iopub.execute_input": "2022-04-18T01:45:58.280694Z",
     "iopub.status.busy": "2022-04-18T01:45:58.279814Z",
     "iopub.status.idle": "2022-04-18T01:50:55.996655Z",
     "shell.execute_reply": "2022-04-18T01:50:55.995592Z",
     "shell.execute_reply.started": "2022-04-18T01:45:58.280641Z"
    }
   },
   "outputs": [],
   "source": [
    "%%time\n",
    "X_train['new_date'] = [d.date() for d in X_train['timestamp']]\n",
    "X_train['new_time'] = [d.time() for d in X_train['timestamp']]\n",
    "X_train.head()"
   ]
  },
  {
   "cell_type": "code",
   "execution_count": 11,
   "metadata": {
    "execution": {
     "iopub.execute_input": "2022-04-18T01:50:55.998472Z",
     "iopub.status.busy": "2022-04-18T01:50:55.998197Z",
     "iopub.status.idle": "2022-04-18T01:51:06.739035Z",
     "shell.execute_reply": "2022-04-18T01:51:06.737609Z",
     "shell.execute_reply.started": "2022-04-18T01:50:55.998438Z"
    }
   },
   "outputs": [],
   "source": [
    "X_train = X_train.groupby(['Asset_ID', 'new_date'],as_index=False).mean()"
   ]
  },
  {
   "cell_type": "code",
   "execution_count": 12,
   "metadata": {
    "execution": {
     "iopub.execute_input": "2022-04-18T01:51:06.740925Z",
     "iopub.status.busy": "2022-04-18T01:51:06.740637Z",
     "iopub.status.idle": "2022-04-18T01:51:06.760598Z",
     "shell.execute_reply": "2022-04-18T01:51:06.759843Z",
     "shell.execute_reply.started": "2022-04-18T01:51:06.740890Z"
    }
   },
   "outputs": [],
   "source": [
    "X_train.head()"
   ]
  },
  {
   "cell_type": "code",
   "execution_count": 16,
   "metadata": {
    "execution": {
     "iopub.execute_input": "2022-04-18T01:58:16.018419Z",
     "iopub.status.busy": "2022-04-18T01:58:16.017750Z",
     "iopub.status.idle": "2022-04-18T01:58:16.039587Z",
     "shell.execute_reply": "2022-04-18T01:58:16.038470Z",
     "shell.execute_reply.started": "2022-04-18T01:58:16.018375Z"
    }
   },
   "outputs": [],
   "source": [
    "X_train.isnull().sum()"
   ]
  },
  {
   "cell_type": "code",
   "execution_count": 13,
   "metadata": {
    "execution": {
     "iopub.execute_input": "2022-04-18T01:51:06.762249Z",
     "iopub.status.busy": "2022-04-18T01:51:06.761972Z",
     "iopub.status.idle": "2022-04-18T01:51:07.094046Z",
     "shell.execute_reply": "2022-04-18T01:51:07.093151Z",
     "shell.execute_reply.started": "2022-04-18T01:51:06.762217Z"
    }
   },
   "outputs": [],
   "source": [
    "X_train.to_csv(\"CompressedData.csv\", index=False)"
   ]
  },
  {
   "cell_type": "code",
   "execution_count": 14,
   "metadata": {
    "execution": {
     "iopub.execute_input": "2022-04-18T01:51:07.095442Z",
     "iopub.status.busy": "2022-04-18T01:51:07.095214Z",
     "iopub.status.idle": "2022-04-18T01:51:07.153462Z",
     "shell.execute_reply": "2022-04-18T01:51:07.152508Z",
     "shell.execute_reply.started": "2022-04-18T01:51:07.095412Z"
    }
   },
   "outputs": [],
   "source": [
    "new_train = pd.read_csv(\"./CompressedData.csv\")\n",
    "new_train.head()"
   ]
  },
  {
   "cell_type": "code",
   "execution_count": 15,
   "metadata": {
    "execution": {
     "iopub.execute_input": "2022-04-18T01:51:07.154919Z",
     "iopub.status.busy": "2022-04-18T01:51:07.154635Z",
     "iopub.status.idle": "2022-04-18T01:51:09.736833Z",
     "shell.execute_reply": "2022-04-18T01:51:09.735638Z",
     "shell.execute_reply.started": "2022-04-18T01:51:07.154885Z"
    }
   },
   "outputs": [],
   "source": [
    "for feature in X_train.columns:\n",
    "    if feature not in ['Target', 'Asset_ID']:\n",
    "        title = feature + \" vs Target\"\n",
    "        plt.title(title)\n",
    "        sns.scatterplot(data=X_train, y=feature, x='Target',color = color[color_count % 3])\n",
    "        plt.xlabel(feature)\n",
    "        plt.ylabel(\"Target\")\n",
    "        color_count += 1\n",
    "        plt.show()"
   ]
  },
  {
   "cell_type": "code",
   "execution_count": null,
   "metadata": {},
   "outputs": [],
   "source": []
  }
 ],
 "metadata": {
  "kernelspec": {
   "display_name": "Python 3",
   "language": "python",
   "name": "python3"
  },
  "language_info": {
   "codemirror_mode": {
    "name": "ipython",
    "version": 3
   },
   "file_extension": ".py",
   "mimetype": "text/x-python",
   "name": "python",
   "nbconvert_exporter": "python",
   "pygments_lexer": "ipython3",
   "version": "3.8.10"
  }
 },
 "nbformat": 4,
 "nbformat_minor": 4
}
