{
 "cells": [
  {
   "cell_type": "code",
   "execution_count": null,
   "id": "9153b412",
   "metadata": {},
   "outputs": [],
   "source": [
    "import numpy as np\n",
    "import pandas as pd\n",
    "import seaborn as sns\n",
    "import matplotlib\n",
    "import matplotlib.pyplot as plt"
   ]
  },
  {
   "cell_type": "code",
   "execution_count": null,
   "id": "7d57eaeb",
   "metadata": {},
   "outputs": [],
   "source": [
    "%%time\n",
    "\n",
    "# Read previously saved output_trained.csv file\n",
    "X_train = pd.read_csv(\"./Dataset/output_trained.csv\")\n",
    "X_train.head()"
   ]
  },
  {
   "cell_type": "code",
   "execution_count": null,
   "id": "caa86287",
   "metadata": {},
   "outputs": [],
   "source": [
    "SEED_VALUE = 42\n",
    "colors = ['r', 'g', 'b'] # Seaborn color coding\n",
    "color_count = 0"
   ]
  },
  {
   "cell_type": "code",
   "execution_count": null,
   "id": "6a8f9d45",
   "metadata": {},
   "outputs": [],
   "source": [
    "# Timestamp per day rolling average\n",
    "\n",
    "X_train['1day_rolling_avg' ] = X_train.Target.rolling(1).mean()\n",
    "X_train.head()"
   ]
  },
  {
   "cell_type": "code",
   "execution_count": null,
   "id": "3b10b8af",
   "metadata": {},
   "outputs": [],
   "source": [
    "X_train.shape"
   ]
  },
  {
   "cell_type": "code",
   "execution_count": null,
   "id": "2f87ff64",
   "metadata": {},
   "outputs": [],
   "source": [
    "%%time\n",
    "\n",
    "temp_dataframe = X_train.loc[X_train['Asset_ID'] == 0]\n",
    "print(temp_dataframe.shape)\n",
    "plt.figure(figsize = (10,5))\n",
    "plt.plot(temp_dataframe['timestamp'], temp_dataframe['1day_rolling_avg'])\n",
    "plt.title(\"Asset_ID_0\")\n",
    "plt.show()"
   ]
  }
 ],
 "metadata": {
  "kernelspec": {
   "display_name": "Python 3",
   "language": "python",
   "name": "python3"
  },
  "language_info": {
   "codemirror_mode": {
    "name": "ipython",
    "version": 3
   },
   "file_extension": ".py",
   "mimetype": "text/x-python",
   "name": "python",
   "nbconvert_exporter": "python",
   "pygments_lexer": "ipython3",
   "version": "3.8.10"
  }
 },
 "nbformat": 4,
 "nbformat_minor": 5
}
