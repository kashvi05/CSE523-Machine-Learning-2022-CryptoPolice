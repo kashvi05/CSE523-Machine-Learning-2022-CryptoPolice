{
 "cells": [
  {
   "cell_type": "code",
   "execution_count": 1,
   "id": "0f8b810a",
   "metadata": {},
   "outputs": [],
   "source": [
    "import numpy as np\n",
    "import pandas as pd\n",
    "import seaborn as sns\n",
    "import matplotlib\n",
    "import matplotlib.pyplot as plt\n",
    "\n",
    "from sklearn.metrics import mean_squared_error as mse\n",
    "\n",
    "from sklearn.linear_model import Lasso\n",
    "from lightgbm import LGBMRegressor\n",
    "from xgboost import XGBRegressor"
   ]
  },
  {
   "cell_type": "code",
   "execution_count": 2,
   "id": "0cce7c1a",
   "metadata": {},
   "outputs": [
    {
     "data": {
      "text/html": [
       "<div>\n",
       "<style scoped>\n",
       "    .dataframe tbody tr th:only-of-type {\n",
       "        vertical-align: middle;\n",
       "    }\n",
       "\n",
       "    .dataframe tbody tr th {\n",
       "        vertical-align: top;\n",
       "    }\n",
       "\n",
       "    .dataframe thead th {\n",
       "        text-align: right;\n",
       "    }\n",
       "</style>\n",
       "<table border=\"1\" class=\"dataframe\">\n",
       "  <thead>\n",
       "    <tr style=\"text-align: right;\">\n",
       "      <th></th>\n",
       "      <th>Count</th>\n",
       "      <th>Open</th>\n",
       "      <th>Volume</th>\n",
       "      <th>Range_Close_Open</th>\n",
       "      <th>Range_High_Low</th>\n",
       "      <th>Asset_ID</th>\n",
       "      <th>Target</th>\n",
       "    </tr>\n",
       "  </thead>\n",
       "  <tbody>\n",
       "    <tr>\n",
       "      <th>0</th>\n",
       "      <td>602283.0</td>\n",
       "      <td>362.485558</td>\n",
       "      <td>1.671106e+06</td>\n",
       "      <td>-0.017399</td>\n",
       "      <td>0.973721</td>\n",
       "      <td>0</td>\n",
       "      <td>-0.000298</td>\n",
       "    </tr>\n",
       "    <tr>\n",
       "      <th>1</th>\n",
       "      <td>475077.0</td>\n",
       "      <td>363.358494</td>\n",
       "      <td>1.147771e+06</td>\n",
       "      <td>0.021606</td>\n",
       "      <td>0.743932</td>\n",
       "      <td>0</td>\n",
       "      <td>0.000393</td>\n",
       "    </tr>\n",
       "    <tr>\n",
       "      <th>2</th>\n",
       "      <td>412259.0</td>\n",
       "      <td>378.132484</td>\n",
       "      <td>1.036151e+06</td>\n",
       "      <td>0.003083</td>\n",
       "      <td>0.596272</td>\n",
       "      <td>0</td>\n",
       "      <td>-0.000032</td>\n",
       "    </tr>\n",
       "    <tr>\n",
       "      <th>3</th>\n",
       "      <td>585125.0</td>\n",
       "      <td>360.290954</td>\n",
       "      <td>1.792937e+06</td>\n",
       "      <td>-0.020629</td>\n",
       "      <td>0.849804</td>\n",
       "      <td>0</td>\n",
       "      <td>-0.000182</td>\n",
       "    </tr>\n",
       "    <tr>\n",
       "      <th>4</th>\n",
       "      <td>342144.0</td>\n",
       "      <td>352.094678</td>\n",
       "      <td>9.547149e+05</td>\n",
       "      <td>-0.004823</td>\n",
       "      <td>0.652008</td>\n",
       "      <td>0</td>\n",
       "      <td>-0.000113</td>\n",
       "    </tr>\n",
       "  </tbody>\n",
       "</table>\n",
       "</div>"
      ],
      "text/plain": [
       "      Count        Open        Volume  Range_Close_Open  Range_High_Low  \\\n",
       "0  602283.0  362.485558  1.671106e+06         -0.017399        0.973721   \n",
       "1  475077.0  363.358494  1.147771e+06          0.021606        0.743932   \n",
       "2  412259.0  378.132484  1.036151e+06          0.003083        0.596272   \n",
       "3  585125.0  360.290954  1.792937e+06         -0.020629        0.849804   \n",
       "4  342144.0  352.094678  9.547149e+05         -0.004823        0.652008   \n",
       "\n",
       "   Asset_ID    Target  \n",
       "0         0 -0.000298  \n",
       "1         0  0.000393  \n",
       "2         0 -0.000032  \n",
       "3         0 -0.000182  \n",
       "4         0 -0.000113  "
      ]
     },
     "execution_count": 2,
     "metadata": {},
     "output_type": "execute_result"
    }
   ],
   "source": [
    "X_test = pd.read_csv(\"./Dataset/Preprocessed_Supplemental_Data.csv\")\n",
    "X_train = pd.read_csv(\"./Dataset/train_final.csv\")\n",
    "X_train.drop(\"Unnamed: 0\", axis = 1, inplace=True)\n",
    "X_test.head()"
   ]
  },
  {
   "cell_type": "code",
   "execution_count": 3,
   "id": "ab77fc2b",
   "metadata": {},
   "outputs": [
    {
     "data": {
      "text/html": [
       "<div>\n",
       "<style scoped>\n",
       "    .dataframe tbody tr th:only-of-type {\n",
       "        vertical-align: middle;\n",
       "    }\n",
       "\n",
       "    .dataframe tbody tr th {\n",
       "        vertical-align: top;\n",
       "    }\n",
       "\n",
       "    .dataframe thead th {\n",
       "        text-align: right;\n",
       "    }\n",
       "</style>\n",
       "<table border=\"1\" class=\"dataframe\">\n",
       "  <thead>\n",
       "    <tr style=\"text-align: right;\">\n",
       "      <th></th>\n",
       "      <th>Count</th>\n",
       "      <th>Open</th>\n",
       "      <th>Volume</th>\n",
       "      <th>Range_Close_Open</th>\n",
       "      <th>Range_High_Low</th>\n",
       "      <th>Asset_ID</th>\n",
       "    </tr>\n",
       "  </thead>\n",
       "  <tbody>\n",
       "    <tr>\n",
       "      <th>0</th>\n",
       "      <td>602283.0</td>\n",
       "      <td>362.485558</td>\n",
       "      <td>1.671106e+06</td>\n",
       "      <td>-0.017399</td>\n",
       "      <td>0.973721</td>\n",
       "      <td>0</td>\n",
       "    </tr>\n",
       "    <tr>\n",
       "      <th>1</th>\n",
       "      <td>475077.0</td>\n",
       "      <td>363.358494</td>\n",
       "      <td>1.147771e+06</td>\n",
       "      <td>0.021606</td>\n",
       "      <td>0.743932</td>\n",
       "      <td>0</td>\n",
       "    </tr>\n",
       "    <tr>\n",
       "      <th>2</th>\n",
       "      <td>412259.0</td>\n",
       "      <td>378.132484</td>\n",
       "      <td>1.036151e+06</td>\n",
       "      <td>0.003083</td>\n",
       "      <td>0.596272</td>\n",
       "      <td>0</td>\n",
       "    </tr>\n",
       "    <tr>\n",
       "      <th>3</th>\n",
       "      <td>585125.0</td>\n",
       "      <td>360.290954</td>\n",
       "      <td>1.792937e+06</td>\n",
       "      <td>-0.020629</td>\n",
       "      <td>0.849804</td>\n",
       "      <td>0</td>\n",
       "    </tr>\n",
       "    <tr>\n",
       "      <th>4</th>\n",
       "      <td>342144.0</td>\n",
       "      <td>352.094678</td>\n",
       "      <td>9.547149e+05</td>\n",
       "      <td>-0.004823</td>\n",
       "      <td>0.652008</td>\n",
       "      <td>0</td>\n",
       "    </tr>\n",
       "  </tbody>\n",
       "</table>\n",
       "</div>"
      ],
      "text/plain": [
       "      Count        Open        Volume  Range_Close_Open  Range_High_Low  \\\n",
       "0  602283.0  362.485558  1.671106e+06         -0.017399        0.973721   \n",
       "1  475077.0  363.358494  1.147771e+06          0.021606        0.743932   \n",
       "2  412259.0  378.132484  1.036151e+06          0.003083        0.596272   \n",
       "3  585125.0  360.290954  1.792937e+06         -0.020629        0.849804   \n",
       "4  342144.0  352.094678  9.547149e+05         -0.004823        0.652008   \n",
       "\n",
       "   Asset_ID  \n",
       "0         0  \n",
       "1         0  \n",
       "2         0  \n",
       "3         0  \n",
       "4         0  "
      ]
     },
     "execution_count": 3,
     "metadata": {},
     "output_type": "execute_result"
    }
   ],
   "source": [
    "y_test = X_test['Target']\n",
    "y_train = X_train['Target']\n",
    "X_test.drop(\"Target\", axis = 1, inplace=True)\n",
    "X_train.drop(\"Target\", axis = 1, inplace=True)\n",
    "X_test.head()"
   ]
  },
  {
   "cell_type": "code",
   "execution_count": 4,
   "id": "54980e40",
   "metadata": {},
   "outputs": [
    {
     "name": "stdout",
     "output_type": "stream",
     "text": [
      "[LightGBM] [Warning] lambda_l1 is set=10, reg_alpha=0.013729311632718602 will be ignored. Current value: lambda_l1=10\n",
      "[LightGBM] [Warning] bagging_fraction is set=0.8, subsample=1.0 will be ignored. Current value: bagging_fraction=0.8\n",
      "[LightGBM] [Warning] min_gain_to_split is set=0.43596722774173646, min_split_gain=0.0 will be ignored. Current value: min_gain_to_split=0.43596722774173646\n",
      "[LightGBM] [Warning] lambda_l2 is set=45, reg_lambda=0.7043903261172909 will be ignored. Current value: lambda_l2=45\n",
      "[LightGBM] [Warning] feature_fraction is set=0.4, colsample_bytree=1.0 will be ignored. Current value: feature_fraction=0.4\n",
      "[LightGBM] [Warning] min_data_in_leaf is set=9400, min_child_samples=20 will be ignored. Current value: min_data_in_leaf=9400\n",
      "[LightGBM] [Warning] bagging_freq is set=1, subsample_freq=0 will be ignored. Current value: bagging_freq=1\n"
     ]
    },
    {
     "data": {
      "text/plain": [
       "array([2.40898523e-06, 2.40898523e-06, 2.40898523e-06, ...,\n",
       "       2.40898523e-06, 2.40898523e-06, 2.40898523e-06])"
      ]
     },
     "execution_count": 4,
     "metadata": {},
     "output_type": "execute_result"
    }
   ],
   "source": [
    "model_lgbm = LGBMRegressor(n_estimators = 10000,\n",
    " learning_rate = 0.123032951985257,\n",
    " num_leaves = 2580,\n",
    " max_depth = 11,\n",
    " min_data_in_leaf = 9400,\n",
    " max_bin = 222,\n",
    " lambda_l1 = 10,\n",
    " lambda_l2 = 45,\n",
    " min_gain_to_split = 0.43596722774173646,\n",
    " reg_alpha = 0.013729311632718602,\n",
    " reg_lambda = 0.7043903261172909,\n",
    " bagging_fraction = 0.8,\n",
    " bagging_freq = 1,\n",
    " feature_fraction = 0.4)\n",
    "\n",
    "fit = model_lgbm.fit(X_train, y_train)\n",
    "preds_lgbm = fit.predict(X_test)\n",
    "preds_lgbm"
   ]
  },
  {
   "cell_type": "code",
   "execution_count": 5,
   "id": "5a37e4c9",
   "metadata": {},
   "outputs": [
    {
     "data": {
      "text/plain": [
       "0.09780312535997492"
      ]
     },
     "execution_count": 5,
     "metadata": {},
     "output_type": "execute_result"
    }
   ],
   "source": [
    "mse_lgbm = mse(y_test, preds_lgbm)\n",
    "10e5*mse_lgbm"
   ]
  },
  {
   "cell_type": "code",
   "execution_count": 6,
   "id": "38789f08",
   "metadata": {},
   "outputs": [
    {
     "data": {
      "text/plain": [
       "array([0.01443528, 0.01443528, 0.01443528, ..., 0.01360792, 0.01360792,\n",
       "       0.01360792], dtype=float32)"
      ]
     },
     "execution_count": 6,
     "metadata": {},
     "output_type": "execute_result"
    }
   ],
   "source": [
    "model_xgb = XGBRegressor(learning_rate = 0.05562856044860366,\n",
    " max_depth = 285,\n",
    " max_leaves = 4,\n",
    " n_estimators = 807,\n",
    " reg_alpha = 0.1579588947337379,\n",
    " reg_lambda = 0.3346272402019721)\n",
    "\n",
    "fit = model_xgb.fit(X_train, y_train)\n",
    "preds_xgb = fit.predict(X_test)\n",
    "preds_xgb"
   ]
  },
  {
   "cell_type": "code",
   "execution_count": 7,
   "id": "f7e5c2bc",
   "metadata": {},
   "outputs": [
    {
     "data": {
      "text/plain": [
       "200.27929889449638"
      ]
     },
     "execution_count": 7,
     "metadata": {},
     "output_type": "execute_result"
    }
   ],
   "source": [
    "mse_xgb = mse(y_test, preds_xgb)\n",
    "10e5*mse_xgb"
   ]
  },
  {
   "cell_type": "code",
   "execution_count": 8,
   "id": "8960cf5d",
   "metadata": {},
   "outputs": [
    {
     "name": "stderr",
     "output_type": "stream",
     "text": [
      "/home/sameep/.local/lib/python3.8/site-packages/sklearn/base.py:493: FutureWarning: The feature names should match those that were passed during fit. Starting version 1.2, an error will be raised.\n",
      "Feature names must be in the same order as they were in fit.\n",
      "\n",
      "  warnings.warn(message, FutureWarning)\n"
     ]
    },
    {
     "data": {
      "text/plain": [
       "array([2.40898517e-06, 2.40898517e-06, 2.40898517e-06, ...,\n",
       "       2.40898517e-06, 2.40898517e-06, 2.40898517e-06])"
      ]
     },
     "execution_count": 8,
     "metadata": {},
     "output_type": "execute_result"
    }
   ],
   "source": [
    "model_lasso = Lasso(alpha = 0.1915391)\n",
    "\n",
    "fit = model_lasso.fit(X_train, y_train)\n",
    "preds_lasso = fit.predict(X_test)\n",
    "preds_lasso"
   ]
  },
  {
   "cell_type": "code",
   "execution_count": 9,
   "id": "d1a429ec",
   "metadata": {},
   "outputs": [
    {
     "data": {
      "text/plain": [
       "0.09780312535995492"
      ]
     },
     "execution_count": 9,
     "metadata": {},
     "output_type": "execute_result"
    }
   ],
   "source": [
    "mse_lasso = mse(preds_lasso, y_test)\n",
    "10e5*mse_lasso"
   ]
  }
 ],
 "metadata": {
  "kernelspec": {
   "display_name": "Python 3",
   "language": "python",
   "name": "python3"
  },
  "language_info": {
   "codemirror_mode": {
    "name": "ipython",
    "version": 3
   },
   "file_extension": ".py",
   "mimetype": "text/x-python",
   "name": "python",
   "nbconvert_exporter": "python",
   "pygments_lexer": "ipython3",
   "version": "3.8.10"
  }
 },
 "nbformat": 4,
 "nbformat_minor": 5
}
