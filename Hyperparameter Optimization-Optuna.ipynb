{
 "cells": [
  {
   "cell_type": "code",
   "execution_count": 1,
   "id": "92a4169a",
   "metadata": {
    "scrolled": false
   },
   "outputs": [],
   "source": [
    "import numpy as np\n",
    "import pandas as pd\n",
    "import matplotlib\n",
    "import matplotlib.pyplot as plt\n",
    "import seaborn as sns\n",
    "\n",
    "from lightgbm import LGBMRegressor\n",
    "from xgboost import XGBRegressor\n",
    "from sklearn.neighbors import KNeighborsRegressor\n",
    "from sklearn \n",
    "\n",
    "from sklearn.metrics import mean_squared_error as mse\n",
    "\n",
    "from sklearn.model_selection import GridSearchCV, train_test_split"
   ]
  },
  {
   "cell_type": "code",
   "execution_count": 2,
   "id": "2d38cbb3",
   "metadata": {
    "scrolled": false
   },
   "outputs": [
    {
     "data": {
      "text/html": [
       "<div>\n",
       "<style scoped>\n",
       "    .dataframe tbody tr th:only-of-type {\n",
       "        vertical-align: middle;\n",
       "    }\n",
       "\n",
       "    .dataframe tbody tr th {\n",
       "        vertical-align: top;\n",
       "    }\n",
       "\n",
       "    .dataframe thead th {\n",
       "        text-align: right;\n",
       "    }\n",
       "</style>\n",
       "<table border=\"1\" class=\"dataframe\">\n",
       "  <thead>\n",
       "    <tr style=\"text-align: right;\">\n",
       "      <th></th>\n",
       "      <th>Count</th>\n",
       "      <th>Open</th>\n",
       "      <th>High</th>\n",
       "      <th>Low</th>\n",
       "      <th>Close</th>\n",
       "      <th>Volume</th>\n",
       "      <th>VWAP</th>\n",
       "      <th>new_date</th>\n",
       "      <th>Asset_ID</th>\n",
       "      <th>Target</th>\n",
       "    </tr>\n",
       "  </thead>\n",
       "  <tbody>\n",
       "    <tr>\n",
       "      <th>0</th>\n",
       "      <td>-0.420178</td>\n",
       "      <td>-0.231602</td>\n",
       "      <td>-0.231818</td>\n",
       "      <td>-0.231463</td>\n",
       "      <td>-0.231600</td>\n",
       "      <td>-0.163735</td>\n",
       "      <td>-0.231576</td>\n",
       "      <td>2018-01-01</td>\n",
       "      <td>0</td>\n",
       "      <td>0.000148</td>\n",
       "    </tr>\n",
       "    <tr>\n",
       "      <th>1</th>\n",
       "      <td>-0.406696</td>\n",
       "      <td>-0.231558</td>\n",
       "      <td>-0.231774</td>\n",
       "      <td>-0.231420</td>\n",
       "      <td>-0.231556</td>\n",
       "      <td>-0.163475</td>\n",
       "      <td>-0.231532</td>\n",
       "      <td>2018-01-02</td>\n",
       "      <td>0</td>\n",
       "      <td>0.000393</td>\n",
       "    </tr>\n",
       "    <tr>\n",
       "      <th>2</th>\n",
       "      <td>-0.412850</td>\n",
       "      <td>-0.231527</td>\n",
       "      <td>-0.231744</td>\n",
       "      <td>-0.231389</td>\n",
       "      <td>-0.231525</td>\n",
       "      <td>-0.163609</td>\n",
       "      <td>-0.231501</td>\n",
       "      <td>2018-01-03</td>\n",
       "      <td>0</td>\n",
       "      <td>0.000549</td>\n",
       "    </tr>\n",
       "    <tr>\n",
       "      <th>3</th>\n",
       "      <td>-0.411005</td>\n",
       "      <td>-0.231471</td>\n",
       "      <td>-0.231686</td>\n",
       "      <td>-0.231333</td>\n",
       "      <td>-0.231469</td>\n",
       "      <td>-0.163602</td>\n",
       "      <td>-0.231445</td>\n",
       "      <td>2018-01-04</td>\n",
       "      <td>0</td>\n",
       "      <td>0.000006</td>\n",
       "    </tr>\n",
       "    <tr>\n",
       "      <th>4</th>\n",
       "      <td>-0.389464</td>\n",
       "      <td>-0.230984</td>\n",
       "      <td>-0.231194</td>\n",
       "      <td>-0.230852</td>\n",
       "      <td>-0.230981</td>\n",
       "      <td>-0.162833</td>\n",
       "      <td>-0.230958</td>\n",
       "      <td>2018-01-05</td>\n",
       "      <td>0</td>\n",
       "      <td>0.005618</td>\n",
       "    </tr>\n",
       "  </tbody>\n",
       "</table>\n",
       "</div>"
      ],
      "text/plain": [
       "      Count      Open      High       Low     Close    Volume      VWAP  \\\n",
       "0 -0.420178 -0.231602 -0.231818 -0.231463 -0.231600 -0.163735 -0.231576   \n",
       "1 -0.406696 -0.231558 -0.231774 -0.231420 -0.231556 -0.163475 -0.231532   \n",
       "2 -0.412850 -0.231527 -0.231744 -0.231389 -0.231525 -0.163609 -0.231501   \n",
       "3 -0.411005 -0.231471 -0.231686 -0.231333 -0.231469 -0.163602 -0.231445   \n",
       "4 -0.389464 -0.230984 -0.231194 -0.230852 -0.230981 -0.162833 -0.230958   \n",
       "\n",
       "     new_date  Asset_ID    Target  \n",
       "0  2018-01-01         0  0.000148  \n",
       "1  2018-01-02         0  0.000393  \n",
       "2  2018-01-03         0  0.000549  \n",
       "3  2018-01-04         0  0.000006  \n",
       "4  2018-01-05         0  0.005618  "
      ]
     },
     "execution_count": 2,
     "metadata": {},
     "output_type": "execute_result"
    }
   ],
   "source": [
    "X_train = pd.read_csv(\"./Dataset/CompressedData.csv\")\n",
    "X_train.head()"
   ]
  },
  {
   "cell_type": "code",
   "execution_count": 3,
   "id": "5f90aa90",
   "metadata": {},
   "outputs": [
    {
     "data": {
      "text/html": [
       "<div>\n",
       "<style scoped>\n",
       "    .dataframe tbody tr th:only-of-type {\n",
       "        vertical-align: middle;\n",
       "    }\n",
       "\n",
       "    .dataframe tbody tr th {\n",
       "        vertical-align: top;\n",
       "    }\n",
       "\n",
       "    .dataframe thead th {\n",
       "        text-align: right;\n",
       "    }\n",
       "</style>\n",
       "<table border=\"1\" class=\"dataframe\">\n",
       "  <thead>\n",
       "    <tr style=\"text-align: right;\">\n",
       "      <th></th>\n",
       "      <th>Count</th>\n",
       "      <th>Open</th>\n",
       "      <th>Volume</th>\n",
       "      <th>Asset_ID</th>\n",
       "    </tr>\n",
       "  </thead>\n",
       "  <tbody>\n",
       "    <tr>\n",
       "      <th>0</th>\n",
       "      <td>-0.420178</td>\n",
       "      <td>-0.231602</td>\n",
       "      <td>-0.163735</td>\n",
       "      <td>0</td>\n",
       "    </tr>\n",
       "    <tr>\n",
       "      <th>1</th>\n",
       "      <td>-0.406696</td>\n",
       "      <td>-0.231558</td>\n",
       "      <td>-0.163475</td>\n",
       "      <td>0</td>\n",
       "    </tr>\n",
       "    <tr>\n",
       "      <th>2</th>\n",
       "      <td>-0.412850</td>\n",
       "      <td>-0.231527</td>\n",
       "      <td>-0.163609</td>\n",
       "      <td>0</td>\n",
       "    </tr>\n",
       "    <tr>\n",
       "      <th>3</th>\n",
       "      <td>-0.411005</td>\n",
       "      <td>-0.231471</td>\n",
       "      <td>-0.163602</td>\n",
       "      <td>0</td>\n",
       "    </tr>\n",
       "    <tr>\n",
       "      <th>4</th>\n",
       "      <td>-0.389464</td>\n",
       "      <td>-0.230984</td>\n",
       "      <td>-0.162833</td>\n",
       "      <td>0</td>\n",
       "    </tr>\n",
       "  </tbody>\n",
       "</table>\n",
       "</div>"
      ],
      "text/plain": [
       "      Count      Open    Volume  Asset_ID\n",
       "0 -0.420178 -0.231602 -0.163735         0\n",
       "1 -0.406696 -0.231558 -0.163475         0\n",
       "2 -0.412850 -0.231527 -0.163609         0\n",
       "3 -0.411005 -0.231471 -0.163602         0\n",
       "4 -0.389464 -0.230984 -0.162833         0"
      ]
     },
     "execution_count": 3,
     "metadata": {},
     "output_type": "execute_result"
    }
   ],
   "source": [
    "SEED_VALUE = 42\n",
    "LEARNING_RATE = 0.01\n",
    "\n",
    "y_train = X_train['Target']\n",
    "X_train.drop([\"Target\", 'new_date', 'High', 'Low', 'Close', 'VWAP'], axis = 1, inplace=True)\n",
    "X_train.head()"
   ]
  },
  {
   "cell_type": "code",
   "execution_count": 4,
   "id": "ab8746d2",
   "metadata": {},
   "outputs": [
    {
     "data": {
      "text/plain": [
       "((14481, 4), (3621, 4))"
      ]
     },
     "execution_count": 4,
     "metadata": {},
     "output_type": "execute_result"
    }
   ],
   "source": [
    "X_train, X_test, y_train, y_test = train_test_split(X_train, y_train, train_size = 0.8, random_state = SEED_VALUE)\n",
    "X_train.shape, X_test.shape"
   ]
  },
  {
   "cell_type": "code",
   "execution_count": 5,
   "id": "7df95d53",
   "metadata": {},
   "outputs": [
    {
     "name": "stdout",
     "output_type": "stream",
     "text": [
      "XGB Base Error:  2.443216458345216\n",
      "LGB Base Error:  2.259477819615519\n",
      "KNN Base Error:  2.3744811646447754\n"
     ]
    }
   ],
   "source": [
    "# Fit basic XGBoost, lgbm and KNN and make predictions\n",
    "model_xgb = XGBRegressor(random_state = 42, n_jobs = -1)\n",
    "model_xgb.fit(X_train, y_train)\n",
    "preds_xgb = model_xgb.predict(X_test)\n",
    "\n",
    "model_lgb = LGBMRegressor()\n",
    "model_lgb.fit(X_train, y_train)\n",
    "preds_lgb = model_lgb.predict(X_test)\n",
    "\n",
    "model_knn = KNeighborsRegressor(n_neighbors = 10)\n",
    "model_knn.fit(X_train, y_train)\n",
    "preds_knn = model_knn.predict(X_test)\n",
    "\n",
    "\n",
    "\n",
    "print(\"XGB Base Error: \", 10e6*mse(preds_xgb, y_test))\n",
    "print(\"LGB Base Error: \", 10e6*mse(preds_lgb, y_test))\n",
    "print(\"KNN Base Error: \", 10e6*mse(preds_knn, y_test))"
   ]
  },
  {
   "cell_type": "code",
   "execution_count": 6,
   "id": "d5c12d1f",
   "metadata": {},
   "outputs": [
    {
     "name": "stdout",
     "output_type": "stream",
     "text": [
      "CPU times: user 14 µs, sys: 2 µs, total: 16 µs\n",
      "Wall time: 20.5 µs\n"
     ]
    }
   ],
   "source": [
    "%%time\n",
    "\n",
    "from sklearn.model_selection import cross_validate\n",
    "\n",
    "def cross_validate_manual(X, y, model):\n",
    "    cv = cross_validate(\n",
    "        estimator = model,\n",
    "        X = X,\n",
    "        y = y,\n",
    "        scoring = [\"neg_mean_squared_error\"],\n",
    "        cv = 5,\n",
    "    )\n",
    "    \n",
    "    return cv[\"test_neg_mean_squared_error\"].mean()"
   ]
  },
  {
   "cell_type": "code",
   "execution_count": 7,
   "id": "e3a3e21d",
   "metadata": {},
   "outputs": [],
   "source": [
    "def objective_LGB(trial):\n",
    "    model_lgbm = LGBMRegressor()\n",
    "    mean_lgbm = cross_validate_manual(X, y, model_lgbm)\n",
    "    print(\"LGBM: \", np.abs(10e6*mean_lgbm))\n",
    "    params = \n",
    "    return np.abs(10e6*mean_lgbm)"
   ]
  },
  {
   "cell_type": "code",
   "execution_count": null,
   "id": "fe7a258e",
   "metadata": {},
   "outputs": [],
   "source": []
  }
 ],
 "metadata": {
  "kernelspec": {
   "display_name": "Python 3 (ipykernel)",
   "language": "python",
   "name": "python3"
  },
  "language_info": {
   "codemirror_mode": {
    "name": "ipython",
    "version": 3
   },
   "file_extension": ".py",
   "mimetype": "text/x-python",
   "name": "python",
   "nbconvert_exporter": "python",
   "pygments_lexer": "ipython3",
   "version": "3.8.10"
  }
 },
 "nbformat": 4,
 "nbformat_minor": 5
}
