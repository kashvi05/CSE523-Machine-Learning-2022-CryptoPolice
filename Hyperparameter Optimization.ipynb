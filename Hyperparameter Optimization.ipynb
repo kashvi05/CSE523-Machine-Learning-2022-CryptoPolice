{
 "cells": [
  {
   "cell_type": "code",
   "execution_count": 1,
   "id": "92a4169a",
   "metadata": {
    "scrolled": false
   },
   "outputs": [],
   "source": [
    "import numpy as np\n",
    "import pandas as pd\n",
    "import matplotlib\n",
    "import matplotlib.pyplot as plt\n",
    "import seaborn as sns\n",
    "import multiprocessing\n",
    "\n",
    "from lightgbm import LGBMRegressor\n",
    "from xgboost import XGBRegressor\n",
    "from sklearn.neighbors import KNeighborsRegressor\n",
    "\n",
    "from sklearn.metrics import mean_squared_error as mse\n",
    "\n",
    "from sklearn.model_selection import GridSearchCV, train_test_split"
   ]
  },
  {
   "cell_type": "code",
   "execution_count": 2,
   "id": "0d502192",
   "metadata": {},
   "outputs": [],
   "source": [
    "SEED_VALUE = 42\n",
    "LEARNING_RATE = 0.01\n",
    "num_cores = multiprocessing.cpu_count()"
   ]
  },
  {
   "cell_type": "code",
   "execution_count": 3,
   "id": "2d38cbb3",
   "metadata": {
    "scrolled": false
   },
   "outputs": [
    {
     "data": {
      "text/html": [
       "<div>\n",
       "<style scoped>\n",
       "    .dataframe tbody tr th:only-of-type {\n",
       "        vertical-align: middle;\n",
       "    }\n",
       "\n",
       "    .dataframe tbody tr th {\n",
       "        vertical-align: top;\n",
       "    }\n",
       "\n",
       "    .dataframe thead th {\n",
       "        text-align: right;\n",
       "    }\n",
       "</style>\n",
       "<table border=\"1\" class=\"dataframe\">\n",
       "  <thead>\n",
       "    <tr style=\"text-align: right;\">\n",
       "      <th></th>\n",
       "      <th>Count</th>\n",
       "      <th>Open</th>\n",
       "      <th>High</th>\n",
       "      <th>Low</th>\n",
       "      <th>Close</th>\n",
       "      <th>Volume</th>\n",
       "      <th>VWAP</th>\n",
       "      <th>new_date</th>\n",
       "      <th>Asset_ID</th>\n",
       "      <th>Target</th>\n",
       "    </tr>\n",
       "  </thead>\n",
       "  <tbody>\n",
       "    <tr>\n",
       "      <th>0</th>\n",
       "      <td>-0.420178</td>\n",
       "      <td>-0.231602</td>\n",
       "      <td>-0.231818</td>\n",
       "      <td>-0.231463</td>\n",
       "      <td>-0.231600</td>\n",
       "      <td>-0.163735</td>\n",
       "      <td>-0.231576</td>\n",
       "      <td>2018-01-01</td>\n",
       "      <td>0</td>\n",
       "      <td>0.000148</td>\n",
       "    </tr>\n",
       "    <tr>\n",
       "      <th>1</th>\n",
       "      <td>-0.406696</td>\n",
       "      <td>-0.231558</td>\n",
       "      <td>-0.231774</td>\n",
       "      <td>-0.231420</td>\n",
       "      <td>-0.231556</td>\n",
       "      <td>-0.163475</td>\n",
       "      <td>-0.231532</td>\n",
       "      <td>2018-01-02</td>\n",
       "      <td>0</td>\n",
       "      <td>0.000393</td>\n",
       "    </tr>\n",
       "    <tr>\n",
       "      <th>2</th>\n",
       "      <td>-0.412850</td>\n",
       "      <td>-0.231527</td>\n",
       "      <td>-0.231744</td>\n",
       "      <td>-0.231389</td>\n",
       "      <td>-0.231525</td>\n",
       "      <td>-0.163609</td>\n",
       "      <td>-0.231501</td>\n",
       "      <td>2018-01-03</td>\n",
       "      <td>0</td>\n",
       "      <td>0.000549</td>\n",
       "    </tr>\n",
       "    <tr>\n",
       "      <th>3</th>\n",
       "      <td>-0.411005</td>\n",
       "      <td>-0.231471</td>\n",
       "      <td>-0.231686</td>\n",
       "      <td>-0.231333</td>\n",
       "      <td>-0.231469</td>\n",
       "      <td>-0.163602</td>\n",
       "      <td>-0.231445</td>\n",
       "      <td>2018-01-04</td>\n",
       "      <td>0</td>\n",
       "      <td>0.000006</td>\n",
       "    </tr>\n",
       "    <tr>\n",
       "      <th>4</th>\n",
       "      <td>-0.389464</td>\n",
       "      <td>-0.230984</td>\n",
       "      <td>-0.231194</td>\n",
       "      <td>-0.230852</td>\n",
       "      <td>-0.230981</td>\n",
       "      <td>-0.162833</td>\n",
       "      <td>-0.230958</td>\n",
       "      <td>2018-01-05</td>\n",
       "      <td>0</td>\n",
       "      <td>0.005618</td>\n",
       "    </tr>\n",
       "  </tbody>\n",
       "</table>\n",
       "</div>"
      ],
      "text/plain": [
       "      Count      Open      High       Low     Close    Volume      VWAP  \\\n",
       "0 -0.420178 -0.231602 -0.231818 -0.231463 -0.231600 -0.163735 -0.231576   \n",
       "1 -0.406696 -0.231558 -0.231774 -0.231420 -0.231556 -0.163475 -0.231532   \n",
       "2 -0.412850 -0.231527 -0.231744 -0.231389 -0.231525 -0.163609 -0.231501   \n",
       "3 -0.411005 -0.231471 -0.231686 -0.231333 -0.231469 -0.163602 -0.231445   \n",
       "4 -0.389464 -0.230984 -0.231194 -0.230852 -0.230981 -0.162833 -0.230958   \n",
       "\n",
       "     new_date  Asset_ID    Target  \n",
       "0  2018-01-01         0  0.000148  \n",
       "1  2018-01-02         0  0.000393  \n",
       "2  2018-01-03         0  0.000549  \n",
       "3  2018-01-04         0  0.000006  \n",
       "4  2018-01-05         0  0.005618  "
      ]
     },
     "execution_count": 3,
     "metadata": {},
     "output_type": "execute_result"
    }
   ],
   "source": [
    "X_train = pd.read_csv(\"./Dataset/CompressedData.csv\")\n",
    "X_train.head()"
   ]
  },
  {
   "cell_type": "code",
   "execution_count": 4,
   "id": "5f90aa90",
   "metadata": {},
   "outputs": [
    {
     "data": {
      "text/html": [
       "<div>\n",
       "<style scoped>\n",
       "    .dataframe tbody tr th:only-of-type {\n",
       "        vertical-align: middle;\n",
       "    }\n",
       "\n",
       "    .dataframe tbody tr th {\n",
       "        vertical-align: top;\n",
       "    }\n",
       "\n",
       "    .dataframe thead th {\n",
       "        text-align: right;\n",
       "    }\n",
       "</style>\n",
       "<table border=\"1\" class=\"dataframe\">\n",
       "  <thead>\n",
       "    <tr style=\"text-align: right;\">\n",
       "      <th></th>\n",
       "      <th>Count</th>\n",
       "      <th>Open</th>\n",
       "      <th>Volume</th>\n",
       "      <th>Asset_ID</th>\n",
       "    </tr>\n",
       "  </thead>\n",
       "  <tbody>\n",
       "    <tr>\n",
       "      <th>0</th>\n",
       "      <td>-0.420178</td>\n",
       "      <td>-0.231602</td>\n",
       "      <td>-0.163735</td>\n",
       "      <td>0</td>\n",
       "    </tr>\n",
       "    <tr>\n",
       "      <th>1</th>\n",
       "      <td>-0.406696</td>\n",
       "      <td>-0.231558</td>\n",
       "      <td>-0.163475</td>\n",
       "      <td>0</td>\n",
       "    </tr>\n",
       "    <tr>\n",
       "      <th>2</th>\n",
       "      <td>-0.412850</td>\n",
       "      <td>-0.231527</td>\n",
       "      <td>-0.163609</td>\n",
       "      <td>0</td>\n",
       "    </tr>\n",
       "    <tr>\n",
       "      <th>3</th>\n",
       "      <td>-0.411005</td>\n",
       "      <td>-0.231471</td>\n",
       "      <td>-0.163602</td>\n",
       "      <td>0</td>\n",
       "    </tr>\n",
       "    <tr>\n",
       "      <th>4</th>\n",
       "      <td>-0.389464</td>\n",
       "      <td>-0.230984</td>\n",
       "      <td>-0.162833</td>\n",
       "      <td>0</td>\n",
       "    </tr>\n",
       "  </tbody>\n",
       "</table>\n",
       "</div>"
      ],
      "text/plain": [
       "      Count      Open    Volume  Asset_ID\n",
       "0 -0.420178 -0.231602 -0.163735         0\n",
       "1 -0.406696 -0.231558 -0.163475         0\n",
       "2 -0.412850 -0.231527 -0.163609         0\n",
       "3 -0.411005 -0.231471 -0.163602         0\n",
       "4 -0.389464 -0.230984 -0.162833         0"
      ]
     },
     "execution_count": 4,
     "metadata": {},
     "output_type": "execute_result"
    }
   ],
   "source": [
    "y_train = X_train['Target']\n",
    "X_train.drop([\"Target\", 'new_date', 'High', 'Low', 'Close', 'VWAP'], axis = 1, inplace=True)\n",
    "X_train.head()"
   ]
  },
  {
   "cell_type": "code",
   "execution_count": 5,
   "id": "ab8746d2",
   "metadata": {},
   "outputs": [
    {
     "data": {
      "text/plain": [
       "((14481, 4), (3621, 4))"
      ]
     },
     "execution_count": 5,
     "metadata": {},
     "output_type": "execute_result"
    }
   ],
   "source": [
    "X_train, X_test, y_train, y_test = train_test_split(X_train, y_train, train_size = 0.8, random_state = SEED_VALUE)\n",
    "X_train.shape, X_test.shape"
   ]
  },
  {
   "cell_type": "code",
   "execution_count": 6,
   "id": "7df95d53",
   "metadata": {},
   "outputs": [
    {
     "name": "stdout",
     "output_type": "stream",
     "text": [
      "XGB Base Error:  2.443216458345216\n",
      "LGB Base Error:  2.259477819615519\n",
      "KNN Base Error:  2.3744811646447754\n"
     ]
    }
   ],
   "source": [
    "# Fit basic XGBoost, lgbm and KNN and make predictions\n",
    "model_xgb = XGBRegressor(random_state = 42, n_jobs = -1)\n",
    "model_xgb.fit(X_train, y_train)\n",
    "preds_xgb = model_xgb.predict(X_test)\n",
    "\n",
    "model_lgb = LGBMRegressor()\n",
    "model_lgb.fit(X_train, y_train)\n",
    "preds_lgb = model_lgb.predict(X_test)\n",
    "\n",
    "model_knn = KNeighborsRegressor(n_neighbors = 10)\n",
    "model_knn.fit(X_train, y_train)\n",
    "preds_knn = model_knn.predict(X_test)\n",
    "\n",
    "print(\"XGB Base Error: \", 10e6*mse(preds_xgb, y_test))\n",
    "print(\"LGB Base Error: \", 10e6*mse(preds_lgb, y_test))\n",
    "print(\"KNN Base Error: \", 10e6*mse(preds_knn, y_test))"
   ]
  },
  {
   "cell_type": "code",
   "execution_count": 7,
   "id": "8e1c3489",
   "metadata": {},
   "outputs": [
    {
     "data": {
      "text/plain": [
       "{'objective': 'reg:squarederror',\n",
       " 'base_score': 0.5,\n",
       " 'booster': 'gbtree',\n",
       " 'callbacks': None,\n",
       " 'colsample_bylevel': 1,\n",
       " 'colsample_bynode': 1,\n",
       " 'colsample_bytree': 1,\n",
       " 'early_stopping_rounds': None,\n",
       " 'enable_categorical': False,\n",
       " 'eval_metric': None,\n",
       " 'gamma': 0,\n",
       " 'gpu_id': -1,\n",
       " 'grow_policy': 'depthwise',\n",
       " 'importance_type': None,\n",
       " 'interaction_constraints': '',\n",
       " 'learning_rate': 0.300000012,\n",
       " 'max_bin': 256,\n",
       " 'max_cat_to_onehot': 4,\n",
       " 'max_delta_step': 0,\n",
       " 'max_depth': 6,\n",
       " 'max_leaves': 0,\n",
       " 'min_child_weight': 1,\n",
       " 'missing': nan,\n",
       " 'monotone_constraints': '()',\n",
       " 'n_estimators': 100,\n",
       " 'n_jobs': -1,\n",
       " 'num_parallel_tree': 1,\n",
       " 'predictor': 'auto',\n",
       " 'random_state': 42,\n",
       " 'reg_alpha': 0,\n",
       " 'reg_lambda': 1,\n",
       " 'sampling_method': 'uniform',\n",
       " 'scale_pos_weight': 1,\n",
       " 'subsample': 1,\n",
       " 'tree_method': 'exact',\n",
       " 'validate_parameters': 1,\n",
       " 'verbosity': None}"
      ]
     },
     "execution_count": 7,
     "metadata": {},
     "output_type": "execute_result"
    }
   ],
   "source": [
    "model_xgb.get_params()"
   ]
  },
  {
   "cell_type": "code",
   "execution_count": 8,
   "id": "6ad67f03",
   "metadata": {},
   "outputs": [],
   "source": [
    "# Tune the parameters using Grid search\n",
    "param_grid = {\n",
    "    \"max_depth\": list(np.arange(1, 100, step=24)),\n",
    "    \"n_estimators\": list(np.arange(1, 500, step=10)),\n",
    "    \"max_leaves\": ['0', '1', '2', '3']\n",
    "}\n",
    "\n",
    "\n",
    "grid_search = GridSearchCV(model_xgb, param_grid, cv = 5, verbose = 2, scoring='neg_mean_squared_error', n_jobs = num_cores - 1)"
   ]
  },
  {
   "cell_type": "code",
   "execution_count": 9,
   "id": "2936bb57",
   "metadata": {},
   "outputs": [
    {
     "name": "stdout",
     "output_type": "stream",
     "text": [
      "Fitting 5 folds for each of 1000 candidates, totalling 5000 fits\n",
      "CPU times: user 19.6 s, sys: 10.4 s, total: 30.1 s\n",
      "Wall time: 17min 7s\n"
     ]
    },
    {
     "data": {
      "text/plain": [
       "{'max_depth': 1, 'max_leaves': '0', 'n_estimators': 31}"
      ]
     },
     "execution_count": 9,
     "metadata": {},
     "output_type": "execute_result"
    }
   ],
   "source": [
    "%%time\n",
    "grid_search.fit(X_train, y_train)\n",
    "grid_search.best_params_"
   ]
  },
  {
   "cell_type": "code",
   "execution_count": 10,
   "id": "28084307",
   "metadata": {},
   "outputs": [
    {
     "name": "stdout",
     "output_type": "stream",
     "text": [
      "XGB Tuned:  2.2624253456167858\n"
     ]
    }
   ],
   "source": [
    "best_xgb_preds = grid_search.predict(X_test)\n",
    "print(\"XGB Tuned: \", 10e6*mse(best_xgb_preds, y_test))"
   ]
  },
  {
   "cell_type": "code",
   "execution_count": 11,
   "id": "31340614",
   "metadata": {},
   "outputs": [
    {
     "data": {
      "text/plain": [
       "{'boosting_type': 'gbdt',\n",
       " 'class_weight': None,\n",
       " 'colsample_bytree': 1.0,\n",
       " 'importance_type': 'split',\n",
       " 'learning_rate': 0.1,\n",
       " 'max_depth': -1,\n",
       " 'min_child_samples': 20,\n",
       " 'min_child_weight': 0.001,\n",
       " 'min_split_gain': 0.0,\n",
       " 'n_estimators': 100,\n",
       " 'n_jobs': -1,\n",
       " 'num_leaves': 31,\n",
       " 'objective': None,\n",
       " 'random_state': None,\n",
       " 'reg_alpha': 0.0,\n",
       " 'reg_lambda': 0.0,\n",
       " 'silent': 'warn',\n",
       " 'subsample': 1.0,\n",
       " 'subsample_for_bin': 200000,\n",
       " 'subsample_freq': 0}"
      ]
     },
     "execution_count": 11,
     "metadata": {},
     "output_type": "execute_result"
    }
   ],
   "source": [
    "model_lgb = LGBMRegressor()\n",
    "model_lgb.get_params()"
   ]
  },
  {
   "cell_type": "code",
   "execution_count": null,
   "id": "9ae9431c",
   "metadata": {},
   "outputs": [],
   "source": []
  }
 ],
 "metadata": {
  "kernelspec": {
   "display_name": "Python 3",
   "language": "python",
   "name": "python3"
  },
  "language_info": {
   "codemirror_mode": {
    "name": "ipython",
    "version": 3
   },
   "file_extension": ".py",
   "mimetype": "text/x-python",
   "name": "python",
   "nbconvert_exporter": "python",
   "pygments_lexer": "ipython3",
   "version": "3.8.10"
  }
 },
 "nbformat": 4,
 "nbformat_minor": 5
}
