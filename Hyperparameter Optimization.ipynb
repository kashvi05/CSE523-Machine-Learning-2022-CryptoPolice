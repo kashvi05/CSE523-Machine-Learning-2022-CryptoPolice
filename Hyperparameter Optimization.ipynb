{
 "cells": [
  {
   "cell_type": "code",
   "execution_count": 1,
   "id": "92a4169a",
   "metadata": {
    "scrolled": false
   },
   "outputs": [],
   "source": [
    "import numpy as np\n",
    "import pandas as pd\n",
    "import matplotlib\n",
    "import matplotlib.pyplot as plt\n",
    "import seaborn as sns\n",
    "import multiprocessing\n",
    "\n",
    "from lightgbm import LGBMRegressor\n",
    "from xgboost import XGBRegressor\n",
    "from sklearn.linear_model import LassoCV\n",
    "\n",
    "from sklearn.metrics import mean_squared_error as mse\n",
    "\n",
    "from sklearn.model_selection import GridSearchCV, train_test_split"
   ]
  },
  {
   "cell_type": "code",
   "execution_count": 2,
   "id": "0d502192",
   "metadata": {},
   "outputs": [
    {
     "data": {
      "text/plain": [
       "8"
      ]
     },
     "execution_count": 2,
     "metadata": {},
     "output_type": "execute_result"
    }
   ],
   "source": [
    "SEED_VALUE = 42\n",
    "LEARNING_RATE = 0.01\n",
    "num_cores = multiprocessing.cpu_count()\n",
    "num_cores"
   ]
  },
  {
   "cell_type": "code",
   "execution_count": 3,
   "id": "2d38cbb3",
   "metadata": {
    "scrolled": false
   },
   "outputs": [
    {
     "data": {
      "text/html": [
       "<div>\n",
       "<style scoped>\n",
       "    .dataframe tbody tr th:only-of-type {\n",
       "        vertical-align: middle;\n",
       "    }\n",
       "\n",
       "    .dataframe tbody tr th {\n",
       "        vertical-align: top;\n",
       "    }\n",
       "\n",
       "    .dataframe thead th {\n",
       "        text-align: right;\n",
       "    }\n",
       "</style>\n",
       "<table border=\"1\" class=\"dataframe\">\n",
       "  <thead>\n",
       "    <tr style=\"text-align: right;\">\n",
       "      <th></th>\n",
       "      <th>Count</th>\n",
       "      <th>Open</th>\n",
       "      <th>Volume</th>\n",
       "      <th>Asset_ID</th>\n",
       "      <th>Target</th>\n",
       "      <th>Range_Close_Open</th>\n",
       "      <th>Range_High_Low</th>\n",
       "    </tr>\n",
       "  </thead>\n",
       "  <tbody>\n",
       "    <tr>\n",
       "      <th>0</th>\n",
       "      <td>-0.420178</td>\n",
       "      <td>-0.231602</td>\n",
       "      <td>-0.163735</td>\n",
       "      <td>0</td>\n",
       "      <td>0.000148</td>\n",
       "      <td>0.009311</td>\n",
       "      <td>-0.106561</td>\n",
       "    </tr>\n",
       "    <tr>\n",
       "      <th>1</th>\n",
       "      <td>-0.406696</td>\n",
       "      <td>-0.231558</td>\n",
       "      <td>-0.163475</td>\n",
       "      <td>0</td>\n",
       "      <td>0.000393</td>\n",
       "      <td>0.009823</td>\n",
       "      <td>-0.106239</td>\n",
       "    </tr>\n",
       "    <tr>\n",
       "      <th>2</th>\n",
       "      <td>-0.412850</td>\n",
       "      <td>-0.231527</td>\n",
       "      <td>-0.163609</td>\n",
       "      <td>0</td>\n",
       "      <td>0.000549</td>\n",
       "      <td>0.009775</td>\n",
       "      <td>-0.106443</td>\n",
       "    </tr>\n",
       "    <tr>\n",
       "      <th>3</th>\n",
       "      <td>-0.411005</td>\n",
       "      <td>-0.231471</td>\n",
       "      <td>-0.163602</td>\n",
       "      <td>0</td>\n",
       "      <td>0.000006</td>\n",
       "      <td>0.010801</td>\n",
       "      <td>-0.105861</td>\n",
       "    </tr>\n",
       "    <tr>\n",
       "      <th>4</th>\n",
       "      <td>-0.389464</td>\n",
       "      <td>-0.230984</td>\n",
       "      <td>-0.162833</td>\n",
       "      <td>0</td>\n",
       "      <td>0.005618</td>\n",
       "      <td>0.011829</td>\n",
       "      <td>-0.102587</td>\n",
       "    </tr>\n",
       "  </tbody>\n",
       "</table>\n",
       "</div>"
      ],
      "text/plain": [
       "      Count      Open    Volume  Asset_ID    Target  Range_Close_Open  \\\n",
       "0 -0.420178 -0.231602 -0.163735         0  0.000148          0.009311   \n",
       "1 -0.406696 -0.231558 -0.163475         0  0.000393          0.009823   \n",
       "2 -0.412850 -0.231527 -0.163609         0  0.000549          0.009775   \n",
       "3 -0.411005 -0.231471 -0.163602         0  0.000006          0.010801   \n",
       "4 -0.389464 -0.230984 -0.162833         0  0.005618          0.011829   \n",
       "\n",
       "   Range_High_Low  \n",
       "0       -0.106561  \n",
       "1       -0.106239  \n",
       "2       -0.106443  \n",
       "3       -0.105861  \n",
       "4       -0.102587  "
      ]
     },
     "execution_count": 3,
     "metadata": {},
     "output_type": "execute_result"
    }
   ],
   "source": [
    "X_train = pd.read_csv(\"./Dataset/train_final.csv\")\n",
    "X_train.drop('Unnamed: 0', axis = 1, inplace=True)\n",
    "X_train.head()"
   ]
  },
  {
   "cell_type": "code",
   "execution_count": 4,
   "id": "5f90aa90",
   "metadata": {},
   "outputs": [
    {
     "data": {
      "text/html": [
       "<div>\n",
       "<style scoped>\n",
       "    .dataframe tbody tr th:only-of-type {\n",
       "        vertical-align: middle;\n",
       "    }\n",
       "\n",
       "    .dataframe tbody tr th {\n",
       "        vertical-align: top;\n",
       "    }\n",
       "\n",
       "    .dataframe thead th {\n",
       "        text-align: right;\n",
       "    }\n",
       "</style>\n",
       "<table border=\"1\" class=\"dataframe\">\n",
       "  <thead>\n",
       "    <tr style=\"text-align: right;\">\n",
       "      <th></th>\n",
       "      <th>Count</th>\n",
       "      <th>Open</th>\n",
       "      <th>Volume</th>\n",
       "      <th>Asset_ID</th>\n",
       "      <th>Range_Close_Open</th>\n",
       "      <th>Range_High_Low</th>\n",
       "    </tr>\n",
       "  </thead>\n",
       "  <tbody>\n",
       "    <tr>\n",
       "      <th>0</th>\n",
       "      <td>-0.420178</td>\n",
       "      <td>-0.231602</td>\n",
       "      <td>-0.163735</td>\n",
       "      <td>0</td>\n",
       "      <td>0.009311</td>\n",
       "      <td>-0.106561</td>\n",
       "    </tr>\n",
       "    <tr>\n",
       "      <th>1</th>\n",
       "      <td>-0.406696</td>\n",
       "      <td>-0.231558</td>\n",
       "      <td>-0.163475</td>\n",
       "      <td>0</td>\n",
       "      <td>0.009823</td>\n",
       "      <td>-0.106239</td>\n",
       "    </tr>\n",
       "    <tr>\n",
       "      <th>2</th>\n",
       "      <td>-0.412850</td>\n",
       "      <td>-0.231527</td>\n",
       "      <td>-0.163609</td>\n",
       "      <td>0</td>\n",
       "      <td>0.009775</td>\n",
       "      <td>-0.106443</td>\n",
       "    </tr>\n",
       "    <tr>\n",
       "      <th>3</th>\n",
       "      <td>-0.411005</td>\n",
       "      <td>-0.231471</td>\n",
       "      <td>-0.163602</td>\n",
       "      <td>0</td>\n",
       "      <td>0.010801</td>\n",
       "      <td>-0.105861</td>\n",
       "    </tr>\n",
       "    <tr>\n",
       "      <th>4</th>\n",
       "      <td>-0.389464</td>\n",
       "      <td>-0.230984</td>\n",
       "      <td>-0.162833</td>\n",
       "      <td>0</td>\n",
       "      <td>0.011829</td>\n",
       "      <td>-0.102587</td>\n",
       "    </tr>\n",
       "  </tbody>\n",
       "</table>\n",
       "</div>"
      ],
      "text/plain": [
       "      Count      Open    Volume  Asset_ID  Range_Close_Open  Range_High_Low\n",
       "0 -0.420178 -0.231602 -0.163735         0          0.009311       -0.106561\n",
       "1 -0.406696 -0.231558 -0.163475         0          0.009823       -0.106239\n",
       "2 -0.412850 -0.231527 -0.163609         0          0.009775       -0.106443\n",
       "3 -0.411005 -0.231471 -0.163602         0          0.010801       -0.105861\n",
       "4 -0.389464 -0.230984 -0.162833         0          0.011829       -0.102587"
      ]
     },
     "execution_count": 4,
     "metadata": {},
     "output_type": "execute_result"
    }
   ],
   "source": [
    "y_train = X_train['Target']\n",
    "X_train.drop([\"Target\"], axis = 1, inplace=True)\n",
    "X_train.head()"
   ]
  },
  {
   "cell_type": "code",
   "execution_count": null,
   "id": "8e1c3489",
   "metadata": {},
   "outputs": [],
   "source": [
    "XGBRegressor().get_params()"
   ]
  },
  {
   "cell_type": "code",
   "execution_count": null,
   "id": "6ad67f03",
   "metadata": {},
   "outputs": [],
   "source": [
    "# Tune the parameters using Grid search\n",
    "param_grid = {\n",
    "    \"max_depth\": list(np.arange(1, 100, step=24)),\n",
    "    \"n_estimators\": list(np.arange(1, 500, step=10)),\n",
    "    \"max_leaves\": ['0', '1', '2', '3']\n",
    "}\n",
    "\n",
    "model_xgb = XGBRegressor(n_jobs = num_cores - 1)\n",
    "\n",
    "grid_search = GridSearchCV(model_xgb, param_grid, cv = 5, verbose = 2, scoring='neg_mean_squared_error', n_jobs = num_cores - 1)"
   ]
  },
  {
   "cell_type": "code",
   "execution_count": null,
   "id": "2936bb57",
   "metadata": {},
   "outputs": [],
   "source": [
    "%%time\n",
    "grid_search.fit(X_train, y_train)\n",
    "grid_search.best_params_"
   ]
  },
  {
   "cell_type": "code",
   "execution_count": null,
   "id": "31340614",
   "metadata": {},
   "outputs": [],
   "source": [
    "model_lgb = LGBMRegressor()\n",
    "model_lgb.get_params()"
   ]
  },
  {
   "cell_type": "code",
   "execution_count": null,
   "id": "9ae9431c",
   "metadata": {},
   "outputs": [],
   "source": [
    "param_grid = {\n",
    "    \"max_depth\": list(np.arange(1, 100, step=24)),\n",
    "    \"n_estimators\": list(np.arange(1, 500, step=10)),\n",
    "    \"max_leaves\": ['0', '1', '2', '3']\n",
    "}\n",
    "\n",
    "\n",
    "grid_search = GridSearchCV(model_lgb, param_grid, cv = 5, verbose = 2, scoring='neg_mean_squared_error', n_jobs = num_cores - 1)"
   ]
  },
  {
   "cell_type": "code",
   "execution_count": null,
   "id": "ab758875",
   "metadata": {},
   "outputs": [],
   "source": [
    "grid_search.fit(X_train, y_train)\n",
    "grid_search.best_params_"
   ]
  },
  {
   "cell_type": "code",
   "execution_count": 5,
   "id": "968b7c7e",
   "metadata": {},
   "outputs": [
    {
     "data": {
      "text/plain": [
       "{'alphas': None,\n",
       " 'copy_X': True,\n",
       " 'cv': None,\n",
       " 'eps': 0.001,\n",
       " 'fit_intercept': True,\n",
       " 'max_iter': 1000,\n",
       " 'n_alphas': 100,\n",
       " 'n_jobs': None,\n",
       " 'normalize': 'deprecated',\n",
       " 'positive': False,\n",
       " 'precompute': 'auto',\n",
       " 'random_state': None,\n",
       " 'selection': 'cyclic',\n",
       " 'tol': 0.0001,\n",
       " 'verbose': False}"
      ]
     },
     "execution_count": 5,
     "metadata": {},
     "output_type": "execute_result"
    }
   ],
   "source": [
    "LassoCV().get_params()"
   ]
  },
  {
   "cell_type": "code",
   "execution_count": 13,
   "id": "94b9eeab",
   "metadata": {},
   "outputs": [],
   "source": [
    "param_grid = {\n",
    "    \"alphas\": list(np.arange(0, 1, step=0.1)),\n",
    "}\n",
    "\n",
    "model_lasso = LassoCV(cv = 5)\n",
    "\n",
    "grid_search = GridSearchCV(model_lasso, param_grid, cv = 5, verbose = 2, scoring='neg_mean_squared_error', n_jobs = num_cores - 1)"
   ]
  },
  {
   "cell_type": "code",
   "execution_count": 15,
   "id": "3b2f0712",
   "metadata": {},
   "outputs": [
    {
     "name": "stdout",
     "output_type": "stream",
     "text": [
      "Fitting 5 folds for each of 10 candidates, totalling 50 fits\n"
     ]
    },
    {
     "name": "stderr",
     "output_type": "stream",
     "text": [
      "/home/sameep/.local/lib/python3.8/site-packages/sklearn/model_selection/_validation.py:372: FitFailedWarning: \n",
      "50 fits failed out of a total of 50.\n",
      "The score on these train-test partitions for these parameters will be set to nan.\n",
      "If these failures are not expected, you can try to debug them by setting error_score='raise'.\n",
      "\n",
      "Below are more details about the failures:\n",
      "--------------------------------------------------------------------------------\n",
      "50 fits failed with the following error:\n",
      "Traceback (most recent call last):\n",
      "  File \"/home/sameep/.local/lib/python3.8/site-packages/sklearn/model_selection/_validation.py\", line 680, in _fit_and_score\n",
      "    estimator.fit(X_train, y_train, **fit_params)\n",
      "  File \"/home/sameep/.local/lib/python3.8/site-packages/sklearn/linear_model/_coordinate_descent.py\", line 1631, in fit\n",
      "    alphas = np.tile(np.sort(alphas)[::-1], (n_l1_ratio, 1))\n",
      "  File \"<__array_function__ internals>\", line 180, in sort\n",
      "  File \"/home/sameep/.local/lib/python3.8/site-packages/numpy/core/fromnumeric.py\", line 1004, in sort\n",
      "    a.sort(axis=axis, kind=kind, order=order)\n",
      "numpy.AxisError: axis -1 is out of bounds for array of dimension 0\n",
      "\n",
      "  warnings.warn(some_fits_failed_message, FitFailedWarning)\n",
      "/home/sameep/.local/lib/python3.8/site-packages/sklearn/model_selection/_search.py:969: UserWarning: One or more of the test scores are non-finite: [nan nan nan nan nan nan nan nan nan nan]\n",
      "  warnings.warn(\n"
     ]
    },
    {
     "ename": "AxisError",
     "evalue": "axis -1 is out of bounds for array of dimension 0",
     "output_type": "error",
     "traceback": [
      "\u001b[0;31m---------------------------------------------------------------------------\u001b[0m",
      "\u001b[0;31mAxisError\u001b[0m                                 Traceback (most recent call last)",
      "Input \u001b[0;32mIn [15]\u001b[0m, in \u001b[0;36m<module>\u001b[0;34m\u001b[0m\n\u001b[0;32m----> 1\u001b[0m \u001b[43mgrid_search\u001b[49m\u001b[38;5;241;43m.\u001b[39;49m\u001b[43mfit\u001b[49m\u001b[43m(\u001b[49m\u001b[43mX_train\u001b[49m\u001b[43m,\u001b[49m\u001b[43m \u001b[49m\u001b[43my_train\u001b[49m\u001b[43m)\u001b[49m\n\u001b[1;32m      2\u001b[0m grid_search\u001b[38;5;241m.\u001b[39mbest_params_\n",
      "File \u001b[0;32m~/.local/lib/python3.8/site-packages/sklearn/model_selection/_search.py:926\u001b[0m, in \u001b[0;36mBaseSearchCV.fit\u001b[0;34m(self, X, y, groups, **fit_params)\u001b[0m\n\u001b[1;32m    924\u001b[0m refit_start_time \u001b[38;5;241m=\u001b[39m time\u001b[38;5;241m.\u001b[39mtime()\n\u001b[1;32m    925\u001b[0m \u001b[38;5;28;01mif\u001b[39;00m y \u001b[38;5;129;01mis\u001b[39;00m \u001b[38;5;129;01mnot\u001b[39;00m \u001b[38;5;28;01mNone\u001b[39;00m:\n\u001b[0;32m--> 926\u001b[0m     \u001b[38;5;28;43mself\u001b[39;49m\u001b[38;5;241;43m.\u001b[39;49m\u001b[43mbest_estimator_\u001b[49m\u001b[38;5;241;43m.\u001b[39;49m\u001b[43mfit\u001b[49m\u001b[43m(\u001b[49m\u001b[43mX\u001b[49m\u001b[43m,\u001b[49m\u001b[43m \u001b[49m\u001b[43my\u001b[49m\u001b[43m,\u001b[49m\u001b[43m \u001b[49m\u001b[38;5;241;43m*\u001b[39;49m\u001b[38;5;241;43m*\u001b[39;49m\u001b[43mfit_params\u001b[49m\u001b[43m)\u001b[49m\n\u001b[1;32m    927\u001b[0m \u001b[38;5;28;01melse\u001b[39;00m:\n\u001b[1;32m    928\u001b[0m     \u001b[38;5;28mself\u001b[39m\u001b[38;5;241m.\u001b[39mbest_estimator_\u001b[38;5;241m.\u001b[39mfit(X, \u001b[38;5;241m*\u001b[39m\u001b[38;5;241m*\u001b[39mfit_params)\n",
      "File \u001b[0;32m~/.local/lib/python3.8/site-packages/sklearn/linear_model/_coordinate_descent.py:1631\u001b[0m, in \u001b[0;36mLinearModelCV.fit\u001b[0;34m(self, X, y, sample_weight)\u001b[0m\n\u001b[1;32m   1616\u001b[0m     alphas \u001b[38;5;241m=\u001b[39m [\n\u001b[1;32m   1617\u001b[0m         _alpha_grid(\n\u001b[1;32m   1618\u001b[0m             X,\n\u001b[0;32m   (...)\u001b[0m\n\u001b[1;32m   1627\u001b[0m         \u001b[38;5;28;01mfor\u001b[39;00m l1_ratio \u001b[38;5;129;01min\u001b[39;00m l1_ratios\n\u001b[1;32m   1628\u001b[0m     ]\n\u001b[1;32m   1629\u001b[0m \u001b[38;5;28;01melse\u001b[39;00m:\n\u001b[1;32m   1630\u001b[0m     \u001b[38;5;66;03m# Making sure alphas is properly ordered.\u001b[39;00m\n\u001b[0;32m-> 1631\u001b[0m     alphas \u001b[38;5;241m=\u001b[39m np\u001b[38;5;241m.\u001b[39mtile(\u001b[43mnp\u001b[49m\u001b[38;5;241;43m.\u001b[39;49m\u001b[43msort\u001b[49m\u001b[43m(\u001b[49m\u001b[43malphas\u001b[49m\u001b[43m)\u001b[49m[::\u001b[38;5;241m-\u001b[39m\u001b[38;5;241m1\u001b[39m], (n_l1_ratio, \u001b[38;5;241m1\u001b[39m))\n\u001b[1;32m   1632\u001b[0m \u001b[38;5;66;03m# We want n_alphas to be the number of alphas used for each l1_ratio.\u001b[39;00m\n\u001b[1;32m   1633\u001b[0m n_alphas \u001b[38;5;241m=\u001b[39m \u001b[38;5;28mlen\u001b[39m(alphas[\u001b[38;5;241m0\u001b[39m])\n",
      "File \u001b[0;32m<__array_function__ internals>:180\u001b[0m, in \u001b[0;36msort\u001b[0;34m(*args, **kwargs)\u001b[0m\n",
      "File \u001b[0;32m~/.local/lib/python3.8/site-packages/numpy/core/fromnumeric.py:1004\u001b[0m, in \u001b[0;36msort\u001b[0;34m(a, axis, kind, order)\u001b[0m\n\u001b[1;32m   1002\u001b[0m \u001b[38;5;28;01melse\u001b[39;00m:\n\u001b[1;32m   1003\u001b[0m     a \u001b[38;5;241m=\u001b[39m asanyarray(a)\u001b[38;5;241m.\u001b[39mcopy(order\u001b[38;5;241m=\u001b[39m\u001b[38;5;124m\"\u001b[39m\u001b[38;5;124mK\u001b[39m\u001b[38;5;124m\"\u001b[39m)\n\u001b[0;32m-> 1004\u001b[0m \u001b[43ma\u001b[49m\u001b[38;5;241;43m.\u001b[39;49m\u001b[43msort\u001b[49m\u001b[43m(\u001b[49m\u001b[43maxis\u001b[49m\u001b[38;5;241;43m=\u001b[39;49m\u001b[43maxis\u001b[49m\u001b[43m,\u001b[49m\u001b[43m \u001b[49m\u001b[43mkind\u001b[49m\u001b[38;5;241;43m=\u001b[39;49m\u001b[43mkind\u001b[49m\u001b[43m,\u001b[49m\u001b[43m \u001b[49m\u001b[43morder\u001b[49m\u001b[38;5;241;43m=\u001b[39;49m\u001b[43morder\u001b[49m\u001b[43m)\u001b[49m\n\u001b[1;32m   1005\u001b[0m \u001b[38;5;28;01mreturn\u001b[39;00m a\n",
      "\u001b[0;31mAxisError\u001b[0m: axis -1 is out of bounds for array of dimension 0"
     ]
    }
   ],
   "source": [
    "grid_search.fit(X_train, y_train)\n",
    "grid_search.best_params_"
   ]
  },
  {
   "cell_type": "code",
   "execution_count": null,
   "id": "973a9177",
   "metadata": {},
   "outputs": [],
   "source": []
  }
 ],
 "metadata": {
  "kernelspec": {
   "display_name": "Python 3",
   "language": "python",
   "name": "python3"
  },
  "language_info": {
   "codemirror_mode": {
    "name": "ipython",
    "version": 3
   },
   "file_extension": ".py",
   "mimetype": "text/x-python",
   "name": "python",
   "nbconvert_exporter": "python",
   "pygments_lexer": "ipython3",
   "version": "3.8.10"
  }
 },
 "nbformat": 4,
 "nbformat_minor": 5
}
