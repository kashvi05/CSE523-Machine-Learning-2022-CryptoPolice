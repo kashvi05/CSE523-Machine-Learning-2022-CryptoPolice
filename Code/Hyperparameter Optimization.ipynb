{
 "cells": [
  {
   "cell_type": "code",
   "execution_count": null,
   "id": "92a4169a",
   "metadata": {
    "scrolled": false
   },
   "outputs": [],
   "source": [
    "import numpy as np\n",
    "import pandas as pd\n",
    "import matplotlib\n",
    "import matplotlib.pyplot as plt\n",
    "import seaborn as sns\n",
    "import multiprocessing\n",
    "\n",
    "from lightgbm import LGBMRegressor\n",
    "from xgboost import XGBRegressor\n",
    "from sklearn.linear_model import LassoCV\n",
    "\n",
    "from sklearn.metrics import mean_squared_error as mse\n",
    "\n",
    "from sklearn.model_selection import GridSearchCV, train_test_split"
   ]
  },
  {
   "cell_type": "code",
   "execution_count": null,
   "id": "0d502192",
   "metadata": {},
   "outputs": [],
   "source": [
    "SEED_VALUE = 42\n",
    "LEARNING_RATE = 0.01\n",
    "num_cores = multiprocessing.cpu_count()\n",
    "num_cores"
   ]
  },
  {
   "cell_type": "code",
   "execution_count": null,
   "id": "2d38cbb3",
   "metadata": {
    "scrolled": false
   },
   "outputs": [],
   "source": [
    "X_train = pd.read_csv(\"./Dataset/train_final.csv\")\n",
    "X_train.drop('Unnamed: 0', axis = 1, inplace=True)\n",
    "X_train.head()"
   ]
  },
  {
   "cell_type": "code",
   "execution_count": null,
   "id": "5f90aa90",
   "metadata": {},
   "outputs": [],
   "source": [
    "y_train = X_train['Target']\n",
    "X_train.drop([\"Target\"], axis = 1, inplace=True)\n",
    "X_train.head()"
   ]
  },
  {
   "cell_type": "code",
   "execution_count": null,
   "id": "8e1c3489",
   "metadata": {},
   "outputs": [],
   "source": [
    "XGBRegressor().get_params()"
   ]
  },
  {
   "cell_type": "code",
   "execution_count": null,
   "id": "6ad67f03",
   "metadata": {},
   "outputs": [],
   "source": [
    "# Tune the parameters using Grid search\n",
    "param_grid = {\n",
    "    \"max_depth\": list(np.arange(1, 100, step=24)),\n",
    "    \"n_estimators\": list(np.arange(1, 500, step=10)),\n",
    "    \"max_leaves\": ['0', '1', '2', '3']\n",
    "}\n",
    "\n",
    "model_xgb = XGBRegressor(n_jobs = num_cores - 1)\n",
    "\n",
    "grid_search = GridSearchCV(model_xgb, param_grid, cv = 5, verbose = 2, scoring='neg_mean_squared_error', n_jobs = num_cores - 1)"
   ]
  },
  {
   "cell_type": "code",
   "execution_count": null,
   "id": "2936bb57",
   "metadata": {},
   "outputs": [],
   "source": [
    "%%time\n",
    "grid_search.fit(X_train, y_train)\n",
    "grid_search.best_params_"
   ]
  },
  {
   "cell_type": "code",
   "execution_count": null,
   "id": "31340614",
   "metadata": {},
   "outputs": [],
   "source": [
    "model_lgb = LGBMRegressor()\n",
    "model_lgb.get_params()"
   ]
  },
  {
   "cell_type": "code",
   "execution_count": null,
   "id": "9ae9431c",
   "metadata": {},
   "outputs": [],
   "source": [
    "param_grid = {\n",
    "    \"max_depth\": list(np.arange(1, 100, step=24)),\n",
    "    \"n_estimators\": list(np.arange(1, 500, step=10)),\n",
    "    \"max_leaves\": ['0', '1', '2', '3']\n",
    "}\n",
    "\n",
    "\n",
    "grid_search = GridSearchCV(model_lgb, param_grid, cv = 5, verbose = 2, scoring='neg_mean_squared_error', n_jobs = num_cores - 1)grid_search = GridSearchCV(model_lgb, param_grid, cv = 5, verbose = 2, scoring='neg_mean_squared_error', n_jobs = num_cores - 1)"
   ]
  },
  {
   "cell_type": "code",
   "execution_count": null,
   "id": "ab758875",
   "metadata": {},
   "outputs": [],
   "source": [
    "grid_search.fit(X_train, y_train)\n",
    "grid_search.best_params_"
   ]
  },
  {
   "cell_type": "code",
   "execution_count": null,
   "id": "968b7c7e",
   "metadata": {},
   "outputs": [],
   "source": [
    "LassoCV().get_params()"
   ]
  },
  {
   "cell_type": "code",
   "execution_count": null,
   "id": "94b9eeab",
   "metadata": {},
   "outputs": [],
   "source": [
    "param_grid = {\n",
    "    \"alphas\": list(np.arange(0, 1, step=0.1)),\n",
    "}\n",
    "\n",
    "model_lasso = LassoCV(cv = 5, n_jobs = num_cores - 1)\n",
    "\n",
    "grid_search = GridSearchCV(model_lasso, param_grid, cv = 5, verbose = 2, scoring='neg_mean_squared_error', n_jobs = num_cores - 1)"
   ]
  },
  {
   "cell_type": "code",
   "execution_count": null,
   "id": "3b2f0712",
   "metadata": {},
   "outputs": [],
   "source": [
    "grid_search.fit(X_train, y_train)\n",
    "grid_search.best_params_"
   ]
  }
 ],
 "metadata": {
  "kernelspec": {
   "display_name": "Python 3 (ipykernel)",
   "language": "python",
   "name": "python3"
  },
  "language_info": {
   "codemirror_mode": {
    "name": "ipython",
    "version": 3
   },
   "file_extension": ".py",
   "mimetype": "text/x-python",
   "name": "python",
   "nbconvert_exporter": "python",
   "pygments_lexer": "ipython3",
   "version": "3.8.10"
  }
 },
 "nbformat": 4,
 "nbformat_minor": 5
}
