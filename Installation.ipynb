{
 "cells": [
  {
   "cell_type": "code",
   "execution_count": 1,
   "id": "b69d41c6",
   "metadata": {},
   "outputs": [
    {
     "name": "stdout",
     "output_type": "stream",
     "text": [
      "Requirement already satisfied: numpy in /home/kavya/.local/lib/python3.8/site-packages (1.22.3)\n",
      "Requirement already satisfied: scipy in /home/kavya/.local/lib/python3.8/site-packages (1.8.0)\n",
      "Requirement already satisfied: matplotlib in /home/kavya/.local/lib/python3.8/site-packages (3.5.1)\n",
      "Requirement already satisfied: plotly in /home/kavya/.local/lib/python3.8/site-packages (5.7.0)\n",
      "Requirement already satisfied: pyspark in /home/kavya/.local/lib/python3.8/site-packages (3.2.1)\n",
      "Requirement already satisfied: pandas in /home/kavya/.local/lib/python3.8/site-packages (1.4.2)\n",
      "Requirement already satisfied: seaborn in /home/kavya/.local/lib/python3.8/site-packages (0.11.2)\n",
      "Requirement already satisfied: pyarrow in /home/kavya/.local/lib/python3.8/site-packages (7.0.0)\n",
      "Requirement already satisfied: scikit-learn in /home/kavya/.local/lib/python3.8/site-packages (1.0.2)\n",
      "Collecting statsmodels\n",
      "  Downloading statsmodels-0.13.2-cp38-cp38-manylinux_2_17_x86_64.manylinux2014_x86_64.whl (9.9 MB)\n",
      "\u001b[K     |████████████████████████████████| 9.9 MB 189 kB/s eta 0:00:01     |█████▋                          | 1.7 MB 1.2 MB/s eta 0:00:07\n",
      "\u001b[?25hCollecting xgboost\n",
      "  Downloading xgboost-1.6.0-py3-none-manylinux2014_x86_64.whl (193.7 MB)\n",
      "\u001b[K     |████████████████████████████████| 193.7 MB 31 kB/s  eta 0:00:01     |███████████████████▏            | 116.3 MB 1.2 MB/s eta 0:01:06     |████████████████████████████    | 169.6 MB 486 kB/s eta 0:00:50     |█████████████████████████████▊  | 179.9 MB 549 kB/s eta 0:00:26     |███████████████████████████████ | 187.1 MB 1.1 MB/s eta 0:00:06\n",
      "\u001b[?25hCollecting lightgbm\n",
      "  Downloading lightgbm-3.3.2-py3-none-manylinux1_x86_64.whl (2.0 MB)\n",
      "\u001b[K     |████████████████████████████████| 2.0 MB 654 kB/s eta 0:00:01\n",
      "\u001b[?25hRequirement already satisfied: fonttools>=4.22.0 in /home/kavya/.local/lib/python3.8/site-packages (from matplotlib) (4.32.0)\n",
      "Requirement already satisfied: cycler>=0.10 in /home/kavya/.local/lib/python3.8/site-packages (from matplotlib) (0.11.0)\n",
      "Requirement already satisfied: packaging>=20.0 in /home/kavya/.local/lib/python3.8/site-packages (from matplotlib) (21.3)\n",
      "Requirement already satisfied: kiwisolver>=1.0.1 in /home/kavya/.local/lib/python3.8/site-packages (from matplotlib) (1.4.2)\n",
      "Requirement already satisfied: pillow>=6.2.0 in /usr/lib/python3/dist-packages (from matplotlib) (7.0.0)\n",
      "Requirement already satisfied: python-dateutil>=2.7 in /home/kavya/.local/lib/python3.8/site-packages (from matplotlib) (2.8.2)\n",
      "Requirement already satisfied: pyparsing>=2.2.1 in /home/kavya/.local/lib/python3.8/site-packages (from matplotlib) (3.0.8)\n",
      "Requirement already satisfied: six in /usr/lib/python3/dist-packages (from plotly) (1.14.0)\n",
      "Requirement already satisfied: tenacity>=6.2.0 in /home/kavya/.local/lib/python3.8/site-packages (from plotly) (8.0.1)\n",
      "Requirement already satisfied: py4j==0.10.9.3 in /home/kavya/.local/lib/python3.8/site-packages (from pyspark) (0.10.9.3)\n",
      "Requirement already satisfied: pytz>=2020.1 in /home/kavya/.local/lib/python3.8/site-packages (from pandas) (2022.1)\n",
      "Requirement already satisfied: threadpoolctl>=2.0.0 in /home/kavya/.local/lib/python3.8/site-packages (from scikit-learn) (3.1.0)\n",
      "Requirement already satisfied: joblib>=0.11 in /home/kavya/.local/lib/python3.8/site-packages (from scikit-learn) (1.1.0)\n",
      "Collecting patsy>=0.5.2\n",
      "  Downloading patsy-0.5.2-py2.py3-none-any.whl (233 kB)\n",
      "\u001b[K     |████████████████████████████████| 233 kB 574 kB/s eta 0:00:01\n",
      "\u001b[?25hRequirement already satisfied: wheel in /usr/lib/python3/dist-packages (from lightgbm) (0.34.2)\n",
      "Installing collected packages: patsy, statsmodels, xgboost, lightgbm\n",
      "Successfully installed lightgbm-3.3.2 patsy-0.5.2 statsmodels-0.13.2 xgboost-1.6.0\n"
     ]
    }
   ],
   "source": [
    "# Globally install the required packages\n",
    "! pip install numpy scipy matplotlib plotly pyspark pandas seaborn pyarrow scikit-learn statsmodels xgboost lightgbm"
   ]
  },
  {
   "cell_type": "code",
   "execution_count": null,
   "id": "0cebf4e0",
   "metadata": {},
   "outputs": [],
   "source": []
  }
 ],
 "metadata": {
  "kernelspec": {
   "display_name": "Python 3 (ipykernel)",
   "language": "python",
   "name": "python3"
  },
  "language_info": {
   "codemirror_mode": {
    "name": "ipython",
    "version": 3
   },
   "file_extension": ".py",
   "mimetype": "text/x-python",
   "name": "python",
   "nbconvert_exporter": "python",
   "pygments_lexer": "ipython3",
   "version": "3.8.10"
  }
 },
 "nbformat": 4,
 "nbformat_minor": 5
}
