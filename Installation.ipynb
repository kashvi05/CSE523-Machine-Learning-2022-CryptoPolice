{
 "cells": [
  {
   "cell_type": "code",
   "execution_count": 1,
   "id": "b69d41c6",
   "metadata": {},
   "outputs": [
    {
     "name": "stdout",
     "output_type": "stream",
     "text": [
      "Defaulting to user installation because normal site-packages is not writeable\n",
      "Requirement already satisfied: numpy in /home/sameep/.local/lib/python3.8/site-packages (1.22.2)\n",
      "Collecting scipy\n",
      "  Downloading scipy-1.8.0-cp38-cp38-manylinux_2_17_x86_64.manylinux2014_x86_64.whl (41.6 MB)\n",
      "     |████████████████████████████████| 41.6 MB 3.9 MB/s             \n",
      "\u001b[?25hCollecting matplotlib\n",
      "  Downloading matplotlib-3.5.1-cp38-cp38-manylinux_2_5_x86_64.manylinux1_x86_64.whl (11.3 MB)\n",
      "     |████████████████████████████████| 11.3 MB 594 kB/s            \n",
      "\u001b[?25hCollecting plotly\n",
      "  Using cached plotly-5.6.0-py2.py3-none-any.whl (27.7 MB)\n",
      "Requirement already satisfied: pyspark in /home/sameep/.local/lib/python3.8/site-packages (3.2.1)\n",
      "Requirement already satisfied: pandas in /home/sameep/.local/lib/python3.8/site-packages (1.4.1)\n",
      "Requirement already satisfied: pyparsing>=2.2.1 in /home/sameep/.local/lib/python3.8/site-packages (from matplotlib) (3.0.7)\n",
      "Requirement already satisfied: pillow>=6.2.0 in /usr/lib/python3/dist-packages (from matplotlib) (7.0.0)\n",
      "Collecting fonttools>=4.22.0\n",
      "  Downloading fonttools-4.29.1-py3-none-any.whl (895 kB)\n",
      "     |████████████████████████████████| 895 kB 4.1 MB/s            \n",
      "\u001b[?25hRequirement already satisfied: python-dateutil>=2.7 in /home/sameep/.local/lib/python3.8/site-packages (from matplotlib) (2.8.2)\n",
      "Collecting cycler>=0.10\n",
      "  Downloading cycler-0.11.0-py3-none-any.whl (6.4 kB)\n",
      "Collecting kiwisolver>=1.0.1\n",
      "  Downloading kiwisolver-1.3.2-cp38-cp38-manylinux_2_5_x86_64.manylinux1_x86_64.whl (1.2 MB)\n",
      "     |████████████████████████████████| 1.2 MB 2.3 MB/s            \n",
      "\u001b[?25hRequirement already satisfied: packaging>=20.0 in /home/sameep/.local/lib/python3.8/site-packages (from matplotlib) (21.3)\n",
      "Requirement already satisfied: six in /usr/lib/python3/dist-packages (from plotly) (1.14.0)\n",
      "Requirement already satisfied: tenacity>=6.2.0 in /home/sameep/.local/lib/python3.8/site-packages (from plotly) (8.0.1)\n",
      "Requirement already satisfied: py4j==0.10.9.3 in /home/sameep/.local/lib/python3.8/site-packages (from pyspark) (0.10.9.3)\n",
      "Requirement already satisfied: pytz>=2020.1 in /home/sameep/.local/lib/python3.8/site-packages (from pandas) (2021.3)\n",
      "Installing collected packages: kiwisolver, fonttools, cycler, scipy, plotly, matplotlib\n",
      "Successfully installed cycler-0.11.0 fonttools-4.29.1 kiwisolver-1.3.2 matplotlib-3.5.1 plotly-5.6.0 scipy-1.8.0\n",
      "\u001b[33mWARNING: You are using pip version 21.3; however, version 22.0.3 is available.\n",
      "You should consider upgrading via the '/usr/bin/python3 -m pip install --upgrade pip' command.\u001b[0m\n"
     ]
    }
   ],
   "source": [
    "# Globally install the required packages\n",
    "! pip install numpy scipy matplotlib plotly pyspark pandas"
   ]
  },
  {
   "cell_type": "code",
   "execution_count": null,
   "id": "0cebf4e0",
   "metadata": {},
   "outputs": [],
   "source": []
  }
 ],
 "metadata": {
  "kernelspec": {
   "display_name": "Python 3",
   "language": "python",
   "name": "python3"
  },
  "language_info": {
   "codemirror_mode": {
    "name": "ipython",
    "version": 3
   },
   "file_extension": ".py",
   "mimetype": "text/x-python",
   "name": "python",
   "nbconvert_exporter": "python",
   "pygments_lexer": "ipython3",
   "version": "3.8.10"
  }
 },
 "nbformat": 4,
 "nbformat_minor": 5
}
