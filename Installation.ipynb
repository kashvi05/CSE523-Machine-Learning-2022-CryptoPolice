{
 "cells": [
  {
   "cell_type": "code",
   "execution_count": 1,
   "id": "b69d41c6",
   "metadata": {},
   "outputs": [
    {
     "name": "stdout",
     "output_type": "stream",
     "text": [
      "Defaulting to user installation because normal site-packages is not writeable\n",
      "Requirement already satisfied: numpy in /home/sameep/.local/lib/python3.8/site-packages (1.22.2)\n",
      "Requirement already satisfied: scipy in /home/sameep/.local/lib/python3.8/site-packages (1.8.0)\n",
      "Requirement already satisfied: matplotlib in /home/sameep/.local/lib/python3.8/site-packages (3.5.1)\n",
      "Requirement already satisfied: plotly in /home/sameep/.local/lib/python3.8/site-packages (5.6.0)\n",
      "Requirement already satisfied: pyspark in /home/sameep/.local/lib/python3.8/site-packages (3.2.1)\n",
      "Requirement already satisfied: pandas in /home/sameep/.local/lib/python3.8/site-packages (1.4.1)\n",
      "Requirement already satisfied: seaborn in /home/sameep/.local/lib/python3.8/site-packages (0.11.2)\n",
      "Requirement already satisfied: pyarrow in /home/sameep/.local/lib/python3.8/site-packages (7.0.0)\n",
      "Requirement already satisfied: scikit-learn in /home/sameep/.local/lib/python3.8/site-packages (1.0.2)\n",
      "Requirement already satisfied: statsmodels in /home/sameep/.local/lib/python3.8/site-packages (0.13.2)\n",
      "Collecting xgboost\n",
      "  Downloading xgboost-1.6.0-py3-none-manylinux2014_x86_64.whl (193.7 MB)\n",
      "     |████████████████████████████████| 193.7 MB 5.7 MB/s             \n",
      "\u001b[?25hCollecting lightgbm\n",
      "  Downloading lightgbm-3.3.2-py3-none-manylinux1_x86_64.whl (2.0 MB)\n",
      "     |████████████████████████████████| 2.0 MB 9.7 MB/s            \n",
      "\u001b[?25hRequirement already satisfied: packaging>=20.0 in /home/sameep/.local/lib/python3.8/site-packages (from matplotlib) (21.3)\n",
      "Requirement already satisfied: python-dateutil>=2.7 in /home/sameep/.local/lib/python3.8/site-packages (from matplotlib) (2.8.2)\n",
      "Requirement already satisfied: kiwisolver>=1.0.1 in /home/sameep/.local/lib/python3.8/site-packages (from matplotlib) (1.3.2)\n",
      "Requirement already satisfied: pillow>=6.2.0 in /usr/lib/python3/dist-packages (from matplotlib) (7.0.0)\n",
      "Requirement already satisfied: pyparsing>=2.2.1 in /home/sameep/.local/lib/python3.8/site-packages (from matplotlib) (3.0.7)\n",
      "Requirement already satisfied: cycler>=0.10 in /home/sameep/.local/lib/python3.8/site-packages (from matplotlib) (0.11.0)\n",
      "Requirement already satisfied: fonttools>=4.22.0 in /home/sameep/.local/lib/python3.8/site-packages (from matplotlib) (4.29.1)\n",
      "Requirement already satisfied: tenacity>=6.2.0 in /home/sameep/.local/lib/python3.8/site-packages (from plotly) (8.0.1)\n",
      "Requirement already satisfied: six in /usr/lib/python3/dist-packages (from plotly) (1.14.0)\n",
      "Requirement already satisfied: py4j==0.10.9.3 in /home/sameep/.local/lib/python3.8/site-packages (from pyspark) (0.10.9.3)\n",
      "Requirement already satisfied: pytz>=2020.1 in /home/sameep/.local/lib/python3.8/site-packages (from pandas) (2021.3)\n",
      "Requirement already satisfied: threadpoolctl>=2.0.0 in /home/sameep/.local/lib/python3.8/site-packages (from scikit-learn) (3.1.0)\n",
      "Requirement already satisfied: joblib>=0.11 in /home/sameep/.local/lib/python3.8/site-packages (from scikit-learn) (1.1.0)\n",
      "Requirement already satisfied: patsy>=0.5.2 in /home/sameep/.local/lib/python3.8/site-packages (from statsmodels) (0.5.2)\n",
      "Requirement already satisfied: wheel in /home/sameep/.local/lib/python3.8/site-packages (from lightgbm) (0.37.0)\n",
      "Installing collected packages: xgboost, lightgbm\n",
      "Successfully installed lightgbm-3.3.2 xgboost-1.6.0\n",
      "\u001b[33mWARNING: You are using pip version 21.3; however, version 22.0.4 is available.\n",
      "You should consider upgrading via the '/usr/bin/python3 -m pip install --upgrade pip' command.\u001b[0m\n"
     ]
    }
   ],
   "source": [
    "# Globally install the required packages\n",
    "! pip install numpy scipy matplotlib plotly pyspark pandas seaborn pyarrow scikit-learn statsmodels xgboost lightgbm"
   ]
  },
  {
   "cell_type": "code",
   "execution_count": null,
   "id": "0cebf4e0",
   "metadata": {},
   "outputs": [],
   "source": []
  }
 ],
 "metadata": {
  "kernelspec": {
   "display_name": "Python 3",
   "language": "python",
   "name": "python3"
  },
  "language_info": {
   "codemirror_mode": {
    "name": "ipython",
    "version": 3
   },
   "file_extension": ".py",
   "mimetype": "text/x-python",
   "name": "python",
   "nbconvert_exporter": "python",
   "pygments_lexer": "ipython3",
   "version": "3.8.10"
  }
 },
 "nbformat": 4,
 "nbformat_minor": 5
}
