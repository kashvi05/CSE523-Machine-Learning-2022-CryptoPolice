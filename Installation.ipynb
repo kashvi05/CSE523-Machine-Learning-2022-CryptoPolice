{
 "cells": [
  {
   "cell_type": "code",
   "execution_count": 1,
   "id": "b69d41c6",
   "metadata": {},
   "outputs": [
    {
     "name": "stdout",
     "output_type": "stream",
     "text": [
      "Defaulting to user installation because normal site-packages is not writeable\n",
      "Requirement already satisfied: numpy in /home/kashvi/.local/lib/python3.8/site-packages (1.22.3)\n",
      "Requirement already satisfied: scipy in /home/kashvi/.local/lib/python3.8/site-packages (1.8.0)\n",
      "Requirement already satisfied: matplotlib in /home/kashvi/.local/lib/python3.8/site-packages (3.5.1)\n",
      "Requirement already satisfied: plotly in /home/kashvi/.local/lib/python3.8/site-packages (5.6.0)\n",
      "Requirement already satisfied: pyspark in /home/kashvi/.local/lib/python3.8/site-packages (3.2.1)\n",
      "Requirement already satisfied: pandas in /home/kashvi/.local/lib/python3.8/site-packages (1.4.1)\n",
      "Requirement already satisfied: seaborn in /home/kashvi/.local/lib/python3.8/site-packages (0.11.2)\n",
      "Requirement already satisfied: pyarrow in /home/kashvi/.local/lib/python3.8/site-packages (7.0.0)\n",
      "Requirement already satisfied: scikit-learn in /home/kashvi/.local/lib/python3.8/site-packages (1.0.2)\n",
      "Requirement already satisfied: fonttools>=4.22.0 in /home/kashvi/.local/lib/python3.8/site-packages (from matplotlib) (4.31.2)\n",
      "Requirement already satisfied: pyparsing>=2.2.1 in /usr/local/lib/python3.8/dist-packages (from matplotlib) (3.0.7)\n",
      "Requirement already satisfied: cycler>=0.10 in /home/kashvi/.local/lib/python3.8/site-packages (from matplotlib) (0.11.0)\n",
      "Requirement already satisfied: python-dateutil>=2.7 in /home/kashvi/.local/lib/python3.8/site-packages (from matplotlib) (2.8.2)\n",
      "Requirement already satisfied: packaging>=20.0 in /usr/local/lib/python3.8/dist-packages (from matplotlib) (21.3)\n",
      "Requirement already satisfied: kiwisolver>=1.0.1 in /home/kashvi/.local/lib/python3.8/site-packages (from matplotlib) (1.4.0)\n",
      "Requirement already satisfied: pillow>=6.2.0 in /usr/lib/python3/dist-packages (from matplotlib) (7.0.0)\n",
      "Requirement already satisfied: tenacity>=6.2.0 in /home/kashvi/.local/lib/python3.8/site-packages (from plotly) (8.0.1)\n",
      "Requirement already satisfied: six in /usr/lib/python3/dist-packages (from plotly) (1.14.0)\n",
      "Requirement already satisfied: py4j==0.10.9.3 in /home/kashvi/.local/lib/python3.8/site-packages (from pyspark) (0.10.9.3)\n",
      "Requirement already satisfied: pytz>=2020.1 in /home/kashvi/.local/lib/python3.8/site-packages (from pandas) (2022.1)\n",
      "Requirement already satisfied: threadpoolctl>=2.0.0 in /home/kashvi/.local/lib/python3.8/site-packages (from scikit-learn) (3.1.0)\n",
      "Requirement already satisfied: joblib>=0.11 in /home/kashvi/.local/lib/python3.8/site-packages (from scikit-learn) (1.1.0)\n"
     ]
    }
   ],
   "source": [
    "# Globally install the required packages\n",
    "! pip install numpy scipy matplotlib plotly pyspark pandas seaborn pyarrow scikit-learn statsmodels xgboost lightgbm"
   ]
  },
  {
   "cell_type": "code",
   "execution_count": null,
   "id": "0cebf4e0",
   "metadata": {},
   "outputs": [],
   "source": []
  }
 ],
 "metadata": {
  "kernelspec": {
   "display_name": "Python 3 (ipykernel)",
   "language": "python",
   "name": "python3"
  },
  "language_info": {
   "codemirror_mode": {
    "name": "ipython",
    "version": 3
   },
   "file_extension": ".py",
   "mimetype": "text/x-python",
   "name": "python",
   "nbconvert_exporter": "python",
   "pygments_lexer": "ipython3",
   "version": "3.8.10"
  }
 },
 "nbformat": 4,
 "nbformat_minor": 5
}
